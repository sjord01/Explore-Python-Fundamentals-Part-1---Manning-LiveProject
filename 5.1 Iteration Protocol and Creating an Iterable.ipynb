{
 "cells": [
  {
   "cell_type": "code",
   "execution_count": 1,
   "id": "6619e0f4",
   "metadata": {},
   "outputs": [],
   "source": [
    "# Explore Python Fundamentals, Part 1: Manning LiveProject\n",
    "# Project 5: Iteration\n",
    "# Project 5.1.: Workflow: Iteration Protocol and Creating an Iterable\n",
    "\n",
    "class Count:\n",
    "    def __init__(self, limit):\n",
    "        self.limit = limit\n",
    "        \n",
    "    def __getitem__(self, index):\n",
    "        if index < self.limit:\n",
    "            return index\n",
    "        else:\n",
    "            raise IndexError(\"Index out of range\")"
   ]
  },
  {
   "cell_type": "code",
   "execution_count": 2,
   "id": "f32976bd",
   "metadata": {},
   "outputs": [
    {
     "name": "stdout",
     "output_type": "stream",
     "text": [
      "0\n",
      "1\n",
      "2\n",
      "3\n",
      "4\n"
     ]
    }
   ],
   "source": [
    "counter = Count(5)\n",
    "for item in counter:\n",
    "    print(item)"
   ]
  },
  {
   "cell_type": "code",
   "execution_count": 3,
   "id": "55841def",
   "metadata": {},
   "outputs": [
    {
     "data": {
      "text/plain": [
       "0"
      ]
     },
     "execution_count": 3,
     "metadata": {},
     "output_type": "execute_result"
    }
   ],
   "source": [
    "counter[0]"
   ]
  },
  {
   "cell_type": "code",
   "execution_count": 4,
   "id": "52c40ab4",
   "metadata": {},
   "outputs": [
    {
     "data": {
      "text/plain": [
       "3"
      ]
     },
     "execution_count": 4,
     "metadata": {},
     "output_type": "execute_result"
    }
   ],
   "source": [
    "counter[3]"
   ]
  },
  {
   "cell_type": "code",
   "execution_count": 5,
   "id": "ad19a69d",
   "metadata": {},
   "outputs": [
    {
     "ename": "IndexError",
     "evalue": "Index out of range",
     "output_type": "error",
     "traceback": [
      "\u001b[0;31m---------------------------------------------------------------------------\u001b[0m",
      "\u001b[0;31mIndexError\u001b[0m                                Traceback (most recent call last)",
      "\u001b[0;32m/var/folders/w5/lv0fm9k15fb7kf7ph4_j959c0000gn/T/ipykernel_88245/537858408.py\u001b[0m in \u001b[0;36m<module>\u001b[0;34m\u001b[0m\n\u001b[0;32m----> 1\u001b[0;31m \u001b[0mcounter\u001b[0m\u001b[0;34m[\u001b[0m\u001b[0;36m5\u001b[0m\u001b[0;34m]\u001b[0m\u001b[0;34m\u001b[0m\u001b[0;34m\u001b[0m\u001b[0m\n\u001b[0m",
      "\u001b[0;32m/var/folders/w5/lv0fm9k15fb7kf7ph4_j959c0000gn/T/ipykernel_88245/2705354009.py\u001b[0m in \u001b[0;36m__getitem__\u001b[0;34m(self, index)\u001b[0m\n\u001b[1;32m     11\u001b[0m             \u001b[0;32mreturn\u001b[0m \u001b[0mindex\u001b[0m\u001b[0;34m\u001b[0m\u001b[0;34m\u001b[0m\u001b[0m\n\u001b[1;32m     12\u001b[0m         \u001b[0;32melse\u001b[0m\u001b[0;34m:\u001b[0m\u001b[0;34m\u001b[0m\u001b[0;34m\u001b[0m\u001b[0m\n\u001b[0;32m---> 13\u001b[0;31m             \u001b[0;32mraise\u001b[0m \u001b[0mIndexError\u001b[0m\u001b[0;34m(\u001b[0m\u001b[0;34m\"Index out of range\"\u001b[0m\u001b[0;34m)\u001b[0m\u001b[0;34m\u001b[0m\u001b[0;34m\u001b[0m\u001b[0m\n\u001b[0m",
      "\u001b[0;31mIndexError\u001b[0m: Index out of range"
     ]
    }
   ],
   "source": [
    "counter[5]"
   ]
  },
  {
   "cell_type": "code",
   "execution_count": 6,
   "id": "858034a8",
   "metadata": {},
   "outputs": [],
   "source": [
    "#The code threw an error message because the limit provided is 5;\n",
    "#The limit 5 means that the 5 sequential elements 0, 1, 2, 3, and 4 are the ones only being iterated upon"
   ]
  },
  {
   "cell_type": "code",
   "execution_count": 7,
   "id": "8884119a",
   "metadata": {},
   "outputs": [
    {
     "data": {
      "text/plain": [
       "'\\nThe Fibonacci sequence starts with 1, 1, and each number after that is created\\nby adding the two previous numbers: 1, 1, 2, 3, 5, 8, and so on.\\n\\nf(i) = f(i-1) + f(i-2) + i.\\n'"
      ]
     },
     "execution_count": 7,
     "metadata": {},
     "output_type": "execute_result"
    }
   ],
   "source": [
    "'''\n",
    "The Fibonacci sequence starts with 1, 1, and each number after that is created\n",
    "by adding the two previous numbers: 1, 1, 2, 3, 5, 8, and so on.\n",
    "\n",
    "f(i) = f(i-1) + f(i-2) + i.\n",
    "'''"
   ]
  },
  {
   "cell_type": "code",
   "execution_count": 32,
   "id": "1d67e82b",
   "metadata": {},
   "outputs": [],
   "source": [
    "class Fibonacci:\n",
    "    def __init__(self, limit):\n",
    "        # set the maximum number of Fibonacci numbers\n",
    "        self.limit = limit\n",
    "        \n",
    "    def __getitem__(self, index):\n",
    "        if index < 0:\n",
    "            # handle negative indices\n",
    "            raise IndexError(\"Negative index is not supported\")\n",
    "        elif index >= self.limit:\n",
    "            # handle indices that are out of range\n",
    "            raise IndexError(\"Index out of range\")\n",
    "        elif index in (0, 1):\n",
    "            # handle the first two indices\n",
    "            return 1\n",
    "        else:\n",
    "            # calculate the Fibonacci number at the requested index\n",
    "            last = 1\n",
    "            current = 1\n",
    "            for i in range(2, index + 1):\n",
    "                result = last + current\n",
    "                last = current\n",
    "                current = result\n",
    "            return result"
   ]
  },
  {
   "cell_type": "code",
   "execution_count": 33,
   "id": "157d6193",
   "metadata": {},
   "outputs": [
    {
     "name": "stdout",
     "output_type": "stream",
     "text": [
      "10\n"
     ]
    }
   ],
   "source": [
    "fibonacci = Fibonacci(10)\n",
    "print(fibonacci.limit)"
   ]
  },
  {
   "cell_type": "code",
   "execution_count": 34,
   "id": "bddffae3",
   "metadata": {},
   "outputs": [
    {
     "data": {
      "text/plain": [
       "<__main__.Fibonacci at 0x7fdad802a910>"
      ]
     },
     "execution_count": 34,
     "metadata": {},
     "output_type": "execute_result"
    }
   ],
   "source": [
    "fibonacci"
   ]
  },
  {
   "cell_type": "code",
   "execution_count": 35,
   "id": "8b7026df",
   "metadata": {},
   "outputs": [
    {
     "name": "stdout",
     "output_type": "stream",
     "text": [
      "1\n",
      "1\n",
      "2\n",
      "3\n",
      "5\n",
      "8\n",
      "13\n",
      "21\n",
      "34\n",
      "55\n"
     ]
    }
   ],
   "source": [
    "fibonacci = Fibonacci(10)\n",
    "for i in range(fibonacci.limit):\n",
    "    print(fibonacci[i]) "
   ]
  },
  {
   "cell_type": "code",
   "execution_count": 36,
   "id": "0a390503",
   "metadata": {},
   "outputs": [
    {
     "name": "stdout",
     "output_type": "stream",
     "text": [
      "1\n",
      "1\n",
      "2\n",
      "3\n",
      "5\n",
      "8\n",
      "13\n",
      "21\n",
      "34\n",
      "55\n",
      "89\n",
      "144\n",
      "233\n",
      "377\n",
      "610\n",
      "987\n",
      "1597\n",
      "2584\n",
      "4181\n",
      "6765\n"
     ]
    }
   ],
   "source": [
    "fibonacci = Fibonacci(20)\n",
    "for i in range(fibonacci.limit):\n",
    "    print(fibonacci[i]) "
   ]
  }
 ],
 "metadata": {
  "kernelspec": {
   "display_name": "Python 3 (ipykernel)",
   "language": "python",
   "name": "python3"
  },
  "language_info": {
   "codemirror_mode": {
    "name": "ipython",
    "version": 3
   },
   "file_extension": ".py",
   "mimetype": "text/x-python",
   "name": "python",
   "nbconvert_exporter": "python",
   "pygments_lexer": "ipython3",
   "version": "3.9.13"
  }
 },
 "nbformat": 4,
 "nbformat_minor": 5
}
