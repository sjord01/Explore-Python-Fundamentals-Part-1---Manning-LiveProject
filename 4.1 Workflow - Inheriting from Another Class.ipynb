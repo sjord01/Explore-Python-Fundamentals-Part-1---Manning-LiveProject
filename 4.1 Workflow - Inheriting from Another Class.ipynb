{
 "cells": [
  {
   "cell_type": "code",
   "execution_count": 1,
   "id": "6619e0f4",
   "metadata": {},
   "outputs": [],
   "source": [
    "# Explore Python Fundamentals, Part 1: Manning LiveProject\n",
    "# Project 4: Class Methods and Variables\n",
    "# Project 4.1: Workflow: Inheriting from Another Class\n",
    "\n",
    "class Animal:\n",
    "    def __init__(self, name):\n",
    "        self.name = name\n",
    "    \n",
    "    def __repr__(self):\n",
    "        return f\"{self.__class__.__name__}('{self.name}')\""
   ]
  },
  {
   "cell_type": "code",
   "execution_count": 2,
   "id": "bb7525fd",
   "metadata": {},
   "outputs": [
    {
     "data": {
      "text/plain": [
       "Animal('Eagle')"
      ]
     },
     "execution_count": 2,
     "metadata": {},
     "output_type": "execute_result"
    }
   ],
   "source": [
    "#Try the class Animal\n",
    "animal1 = Animal('Eagle')\n",
    "animal1"
   ]
  },
  {
   "cell_type": "code",
   "execution_count": 3,
   "id": "4bb14f37",
   "metadata": {},
   "outputs": [
    {
     "name": "stdout",
     "output_type": "stream",
     "text": [
      "The variable animal2 outputs: Animal('Tarsier')\n",
      "The variable animal3 outputs: Animal('Zebra')\n"
     ]
    }
   ],
   "source": [
    "#Try more example\n",
    "animal2 = Animal('Tarsier')\n",
    "print(f\"The variable animal2 outputs: {animal2}\")\n",
    "\n",
    "animal3 = Animal('Zebra')\n",
    "print(f\"The variable animal3 outputs: {animal3}\")"
   ]
  },
  {
   "cell_type": "code",
   "execution_count": 4,
   "id": "4737ae22",
   "metadata": {},
   "outputs": [
    {
     "data": {
      "text/plain": [
       "'\\n\\nCreate a class hierarchy using this concept:\\n\\nAnimal\\n├── Bird\\n│   ├── Eagle\\n│   └── Duck\\n├── Mammal\\n│   ├── Bear\\n│   └── Wolf\\n└── AquaticAnimal\\n    ├── Fish\\n    │   └── Trout\\n    └── Amphibian\\n        └── Frog\\n'"
      ]
     },
     "execution_count": 4,
     "metadata": {},
     "output_type": "execute_result"
    }
   ],
   "source": [
    "'''\n",
    "\n",
    "Create a class hierarchy using this concept:\n",
    "\n",
    "Animal\n",
    "├── Bird\n",
    "│   ├── Eagle\n",
    "│   └── Duck\n",
    "├── Mammal\n",
    "│   ├── Bear\n",
    "│   └── Wolf\n",
    "└── AquaticAnimal\n",
    "    ├── Fish\n",
    "    │   └── Trout\n",
    "    └── Amphibian\n",
    "        └── Frog\n",
    "'''"
   ]
  },
  {
   "cell_type": "code",
   "execution_count": 5,
   "id": "9156a3bf",
   "metadata": {},
   "outputs": [],
   "source": [
    "#Use the __repr__ method\n",
    "\n",
    "class Animal:\n",
    "    def __init__(self, name):\n",
    "        self.name = name\n",
    "\n",
    "    def __repr__(self):\n",
    "        return f\"{self.__class__.__name__}('{self.name}')\"\n",
    "\n",
    "class Bird(Animal):\n",
    "    def fly(self):\n",
    "        print(f\"{self.name} is a bird.\")\n",
    "\n",
    "class Mammal(Animal):\n",
    "    def walk(self):\n",
    "        print(f\"{self.name} is a mammal.\")\n",
    "\n",
    "class AquaticAnimal(Animal):\n",
    "    def swim(self, depth):\n",
    "        if depth >= 2:\n",
    "            print(f\"{self.name} is an aquatic animal swimming at depth of {depth} feet.\")\n",
    "        else:\n",
    "            print(f\"{self.name} may not be an aquatic animal! Aquatic animals swim at least 2 feet deep!\")\n",
    "        \n",
    "\n",
    "class Bear(Mammal):\n",
    "    pass\n",
    "\n",
    "class Wolf(Mammal):\n",
    "    pass\n",
    "\n",
    "class Eagle(Bird):\n",
    "    pass\n",
    "\n",
    "class Duck(Bird):\n",
    "    pass\n",
    "\n",
    "class Fish(AquaticAnimal):\n",
    "    pass\n",
    "\n",
    "class Amphibian(AquaticAnimal):\n",
    "    pass\n",
    "\n",
    "class Frog(Amphibian):\n",
    "    pass\n",
    "\n",
    "class Trout(Fish):\n",
    "    pass\n"
   ]
  },
  {
   "cell_type": "code",
   "execution_count": 6,
   "id": "c59462c2",
   "metadata": {},
   "outputs": [
    {
     "name": "stdout",
     "output_type": "stream",
     "text": [
      "Eddie is a bird.\n",
      "Tina is an aquatic animal swimming at depth of 2 feet.\n",
      "Bob is a mammal.\n",
      "Fred may not be an aquatic animal! Aquatic animals swim at least 2 feet deep!\n"
     ]
    },
    {
     "data": {
      "text/plain": [
       "Animal('Frog('Fred')')"
      ]
     },
     "execution_count": 6,
     "metadata": {},
     "output_type": "execute_result"
    }
   ],
   "source": [
    "eagle = Eagle('Eddie')\n",
    "eagle.fly()\n",
    "\n",
    "trout = Trout('Tina')\n",
    "trout.swim(2)\n",
    "\n",
    "bear = Bear('Bob')\n",
    "bear.walk()\n",
    "\n",
    "frog = Frog('Fred')\n",
    "frog.swim(1)\n",
    "Animal(frog)"
   ]
  },
  {
   "cell_type": "code",
   "execution_count": 7,
   "id": "8b85d5f4",
   "metadata": {},
   "outputs": [],
   "source": [
    "#Use the super() method\n",
    "\n",
    "class Animal:\n",
    "    def __init__(self, name):\n",
    "        self.name = name\n",
    "\n",
    "    def __repr__(self):\n",
    "        return f\"{self.__class__.__name__}('{self.name}')\"\n",
    "\n",
    "class Bird(Animal):\n",
    "    def __init__(self, name):\n",
    "        super().__init__(name)\n",
    "    \n",
    "    def fly(self):\n",
    "        print(f\"{self.name} is a bird.\")\n",
    "        \n",
    "    def __repr__(self):\n",
    "        return f\"{self.__class__.__name__}({self.name})\"\n",
    "\n",
    "class Mammal(Animal):\n",
    "    def __init__(self, name):\n",
    "        super().__init__(name)\n",
    "    \n",
    "    def walk(self):\n",
    "        print(f\"{self.name} is a mammal.\")\n",
    "        \n",
    "    def __repr__(self):\n",
    "        return f\"{self.__class__.__name__}({self.name})\"\n",
    "\n",
    "class AquaticAnimal(Animal):\n",
    "    def __init__(self, name):\n",
    "        super().__init__(name)\n",
    "    \n",
    "    def swim(self, depth):\n",
    "        if depth >= 2:\n",
    "            print(f\"{self.name} is an aquatic animal swimming at depth of {depth} feet.\")\n",
    "        else:\n",
    "            print(f\"{self.name} may not be an aquatic animal! Aquatic animals swim at least 2 feet deep!\")\n",
    "            \n",
    "    def __repr__(self):\n",
    "        return f\"{self.__class__.__name__}({self.name})\"\n",
    "        \n",
    "\n",
    "class Bear(Mammal):\n",
    "    pass\n",
    "\n",
    "class Wolf(Mammal):\n",
    "    pass\n",
    "\n",
    "class Eagle(Bird):\n",
    "    pass\n",
    "\n",
    "class Duck(Bird):\n",
    "    pass\n",
    "\n",
    "class Fish(AquaticAnimal):\n",
    "    pass\n",
    "\n",
    "class Amphibian(AquaticAnimal):\n",
    "    pass\n",
    "\n",
    "class Frog(Amphibian):\n",
    "    pass\n",
    "\n",
    "class Trout(Fish):\n",
    "    pass"
   ]
  },
  {
   "cell_type": "code",
   "execution_count": 9,
   "id": "854133c2",
   "metadata": {},
   "outputs": [
    {
     "data": {
      "text/plain": [
       "Eagle(Oscar)"
      ]
     },
     "execution_count": 9,
     "metadata": {},
     "output_type": "execute_result"
    }
   ],
   "source": [
    "eagle = Eagle('Oscar')\n",
    "eagle"
   ]
  },
  {
   "cell_type": "code",
   "execution_count": 10,
   "id": "59b09e2e",
   "metadata": {},
   "outputs": [
    {
     "data": {
      "text/plain": [
       "Duck(Geppetto)"
      ]
     },
     "execution_count": 10,
     "metadata": {},
     "output_type": "execute_result"
    }
   ],
   "source": [
    "duck = Duck('Geppetto')\n",
    "duck\n"
   ]
  },
  {
   "cell_type": "code",
   "execution_count": 11,
   "id": "6c434a7a",
   "metadata": {},
   "outputs": [
    {
     "data": {
      "text/plain": [
       "Wolf(Luke)"
      ]
     },
     "execution_count": 11,
     "metadata": {},
     "output_type": "execute_result"
    }
   ],
   "source": [
    "wolf = Wolf('Luke')\n",
    "wolf"
   ]
  },
  {
   "cell_type": "code",
   "execution_count": null,
   "id": "f0de733b",
   "metadata": {},
   "outputs": [],
   "source": [
    "'''\n",
    "- We created a simple class hierarchy with the Animal class as the parent class and\n",
    "three subclasses, Bird, Mammal, and AquaticAnimal, inheriting from it.\n",
    "\n",
    "- We also created more specific subclasses such as Eagle, Duck, Bear, Wolf, Fish,\n",
    "Amphibian, Trout, and Frog, which inherit from the appropriate parent class based\n",
    "on their characteristics.\n",
    "\n",
    "- We demonstrated how to use the super() function to properly initialize subclass\n",
    "attributes in the __init__ method by calling the parent class constructor. We also\n",
    "used the super() function to access the parent class methods with the same name in the subclasses.\n",
    "\n",
    "- By using proper inheritance in Python, we can create a more organized and maintainable codebase\n",
    "by avoiding code duplication and reusing code from parent classes in our subclasses.\n",
    "'''"
   ]
  }
 ],
 "metadata": {
  "kernelspec": {
   "display_name": "Python 3 (ipykernel)",
   "language": "python",
   "name": "python3"
  },
  "language_info": {
   "codemirror_mode": {
    "name": "ipython",
    "version": 3
   },
   "file_extension": ".py",
   "mimetype": "text/x-python",
   "name": "python",
   "nbconvert_exporter": "python",
   "pygments_lexer": "ipython3",
   "version": "3.9.13"
  }
 },
 "nbformat": 4,
 "nbformat_minor": 5
}
