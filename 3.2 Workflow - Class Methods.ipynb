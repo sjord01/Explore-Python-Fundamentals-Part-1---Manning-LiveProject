{
 "cells": [
  {
   "cell_type": "code",
   "execution_count": 1,
   "id": "2d56cd95",
   "metadata": {},
   "outputs": [],
   "source": [
    "# Explore Python Fundamentals, Part 1: Manning LiveProject\n",
    "# Project 3: Class Methods and Variables\n",
    "# Project 3.2: Workflow: Class Methods\n",
    "\n",
    "class Connection:\n",
    "    port = 55000\n",
    "    conn_limit = 10\n",
    "    connections = []\n",
    "    \n",
    "    def __init__(self, host):\n",
    "        if len(Connection.connections) < Connection.conn_limit:\n",
    "            self.connections.append(self)\n",
    "            self.host = host\n",
    "            self.port = self.port + len(self.connections)\n",
    "            print(f\"Connection established with {self.host}\")\n",
    "        \n",
    "        else:\n",
    "            print(f\"Connection limit of {self.conn_limit} reached.\")\n",
    "    \n",
    "    def close(self):\n",
    "        self.connections.remove(self)\n",
    "        print(f\"Connection closed with {self.host}\")\n",
    "        \n",
    "    def __repr__(self):\n",
    "        return f\"{self.host}, {self.port}\""
   ]
  },
  {
   "cell_type": "code",
   "execution_count": 2,
   "id": "7be24f6f",
   "metadata": {},
   "outputs": [
    {
     "name": "stdout",
     "output_type": "stream",
     "text": [
      "Connection established with google.com\n",
      "google.com, 55001\n",
      "Connection established with yahoo.com\n",
      "yahoo.com, 55002\n",
      "Connection established with bing.com\n",
      "bing.com, 55003\n"
     ]
    }
   ],
   "source": [
    "conn1 = Connection('google.com')\n",
    "print(conn1)\n",
    "\n",
    "conn2 = Connection('yahoo.com')\n",
    "print(conn2)\n",
    "\n",
    "conn3 = Connection('bing.com')\n",
    "print(conn3)"
   ]
  },
  {
   "cell_type": "code",
   "execution_count": 3,
   "id": "5d5d39f4",
   "metadata": {},
   "outputs": [],
   "source": [
    "#Let's try creating a subclass PrivateConnection that inherits from Connection\n",
    "\n",
    "class PrivateConnection(Connection):\n",
    "    def __init__(self, host):\n",
    "        if len(Connection.connections) < Connection.conn_limit:\n",
    "            self.connections.append(self)\n",
    "            self.host = host\n",
    "            self.port = self.port + len(Connection.connections)\n",
    "            print(f\"Private connection established with {self.host}\")\n",
    "        else:\n",
    "            print(f\"Connection limit of {self.conn_limit} reached for private connection\")"
   ]
  },
  {
   "cell_type": "code",
   "execution_count": 4,
   "id": "df0b5bf1",
   "metadata": {},
   "outputs": [
    {
     "name": "stdout",
     "output_type": "stream",
     "text": [
      "Private connection established with nasa.com\n",
      "55004\n"
     ]
    }
   ],
   "source": [
    "# create an instance of PrivateConnection\n",
    "private_conn = PrivateConnection(\"nasa.com\")\n",
    "\n",
    "# print the port of the private connection\n",
    "print(private_conn.port)"
   ]
  },
  {
   "cell_type": "code",
   "execution_count": 5,
   "id": "50d48fce",
   "metadata": {},
   "outputs": [
    {
     "name": "stdout",
     "output_type": "stream",
     "text": [
      "55004\n",
      "59999\n"
     ]
    }
   ],
   "source": [
    "# change the port of the Connection class\n",
    "Connection.port = 59999\n",
    "\n",
    "# print the port of the private connection\n",
    "print(private_conn.port)\n",
    "print(PrivateConnection.port)"
   ]
  },
  {
   "cell_type": "code",
   "execution_count": 6,
   "id": "b181a4c5",
   "metadata": {},
   "outputs": [
    {
     "name": "stdout",
     "output_type": "stream",
     "text": [
      "Private connection established with unicef.com\n",
      "60004\n",
      "10\n"
     ]
    }
   ],
   "source": [
    "# create an instance of PrivateConnection\n",
    "private_conn1 = PrivateConnection(\"unicef.com\")\n",
    "\n",
    "# print the port of the private connection\n",
    "print(private_conn1.port)\n",
    "\n",
    "# print the connection limit of the private connection\n",
    "print(private_conn1.conn_limit)"
   ]
  },
  {
   "cell_type": "code",
   "execution_count": 7,
   "id": "af991da8",
   "metadata": {},
   "outputs": [
    {
     "name": "stdout",
     "output_type": "stream",
     "text": [
      "11\n"
     ]
    }
   ],
   "source": [
    "# change the connection limit of the Connection class\n",
    "Connection.conn_limit = 11\n",
    "\n",
    "# print the connection limit of the private connection again\n",
    "print(private_conn1.conn_limit)"
   ]
  },
  {
   "cell_type": "code",
   "execution_count": 8,
   "id": "3688197d",
   "metadata": {},
   "outputs": [
    {
     "data": {
      "text/plain": [
       "\"\\nConclusions:\\n\\n- 'port' did not change because it's declared in the methods of both parent class Connection\\nand subclass Private Connection. However, 'conn_count' did change because it is declared\\nin a global space\\n\\n- Using the class explicitly causes problem if we later create a subclass, any changes\\nwe make to the class data or class methods will affect both the parent class and its\\nsubclasses. This can lead to unexpected behavior or bugs, as the subclass may rely on\\nthe original behavior of the parent class.\\n\\n- Another issue is that using the class explicitly can make it more difficult to maintain\\nand modify the code in the future. This is because the class data and methods are tightly\\ncoupled with the instances of the class, which can make it harder to isolate and test\\nspecific parts of the code.\\n\""
      ]
     },
     "execution_count": 8,
     "metadata": {},
     "output_type": "execute_result"
    }
   ],
   "source": [
    "'''\n",
    "Conclusions:\n",
    "\n",
    "- 'port' did not change because it's declared in the methods of both parent class Connection\n",
    "and subclass Private Connection. However, 'conn_count' did change because it is declared\n",
    "in a global space\n",
    "\n",
    "- Using the class explicitly causes problem if we later create a subclass, any changes\n",
    "we make to the class data or class methods will affect both the parent class and its\n",
    "subclasses. This can lead to unexpected behavior or bugs, as the subclass may rely on\n",
    "the original behavior of the parent class.\n",
    "\n",
    "- Another issue is that using the class explicitly can make it more difficult to maintain\n",
    "and modify the code in the future. This is because the class data and methods are tightly\n",
    "coupled with the instances of the class, which can make it harder to isolate and test\n",
    "specific parts of the code.\n",
    "'''"
   ]
  },
  {
   "cell_type": "code",
   "execution_count": 9,
   "id": "63828eee",
   "metadata": {},
   "outputs": [],
   "source": [
    "#Use the .__class__ method\n",
    "\n",
    "class Connection:\n",
    "    port = 55000\n",
    "    conn_limit = 10\n",
    "    connections = []\n",
    "    \n",
    "    def __init__(self, host, port=None):\n",
    "        if len(self.__class__.connections) < self.__class__.conn_limit:\n",
    "            self.__class__.connections.append(self)\n",
    "            self.host = host\n",
    "            self.port = self.__class__.port + len(self.__class__.connections)\n",
    "            print(f\"Connection established with {self.host}:{self.port}\")\n",
    "        else:\n",
    "            print(f\"Connection limit of {self.__class__.conn_limit} reached.\")\n",
    "    \n",
    "    def close(self):\n",
    "        self.__class__.connections.remove(self)\n",
    "        print(f\"Connection closed with {self.host}:{self.port}\")\n",
    "        \n",
    "    def __repr__(self):\n",
    "        return f\"{self.host}:{self.port}\"\n",
    "        \n",
    "class PrivateConnection(Connection):\n",
    "    port = 55000\n",
    "    conn_limit = 10\n",
    "    connections = []\n",
    "    def __init__(self, host):\n",
    "        if len(self.__class__.connections) < self.__class__.conn_limit:\n",
    "            self.__class__.connections.append(self)\n",
    "            self.host = host\n",
    "            self.port = self.port + len(self.__class__.connections)\n",
    "            print(f\"Private connection established with {self.host}\")\n",
    "        else:\n",
    "            print(f\"Connection limit of {self.__class__.conn_limit} reached for private connection\")"
   ]
  },
  {
   "cell_type": "code",
   "execution_count": 10,
   "id": "18a38330",
   "metadata": {},
   "outputs": [
    {
     "data": {
      "text/plain": [
       "\"\\nConclusions:\\n- In this version of the Connection class, we use connection_count as an instance variable\\nto keep track of the number of active connections for each instance of the class. We also\\nuse the class's port attribute as a default value for the port argument in the constructor,\\nif no specific port is provided.\\n\\n- Using the class explicitly (e.g. self.__class__.connections) could create problems if we\\nlater create a subclass that inherits from the Connection class. In this case, the subclass\\nwould also have its own connections list, which could lead to confusion and errors if we're\\nnot careful. To avoid this, it's better to use instance variables and the self keyword\\nwhenever possible, instead of relying on the class directly.\\n\""
      ]
     },
     "execution_count": 10,
     "metadata": {},
     "output_type": "execute_result"
    }
   ],
   "source": [
    "'''\n",
    "Conclusions:\n",
    "- In this version of the Connection class, we use connection_count as an instance variable\n",
    "to keep track of the number of active connections for each instance of the class. We also\n",
    "use the class's port attribute as a default value for the port argument in the constructor,\n",
    "if no specific port is provided.\n",
    "\n",
    "- Using the class explicitly (e.g. self.__class__.connections) could create problems if we\n",
    "later create a subclass that inherits from the Connection class. In this case, the subclass\n",
    "would also have its own connections list, which could lead to confusion and errors if we're\n",
    "not careful. To avoid this, it's better to use instance variables and the self keyword\n",
    "whenever possible, instead of relying on the class directly.\n",
    "'''"
   ]
  },
  {
   "cell_type": "code",
   "execution_count": 11,
   "id": "85514f02",
   "metadata": {},
   "outputs": [
    {
     "name": "stdout",
     "output_type": "stream",
     "text": [
      "Private connection established with unicef.com\n",
      "10\n"
     ]
    }
   ],
   "source": [
    "# create an instance of PrivateConnection\n",
    "private_conn = PrivateConnection(\"unicef.com\")\n",
    "\n",
    "# print the connection limit of the private connection\n",
    "print(private_conn.conn_limit)"
   ]
  },
  {
   "cell_type": "code",
   "execution_count": 12,
   "id": "f1cad5d9",
   "metadata": {},
   "outputs": [
    {
     "name": "stdout",
     "output_type": "stream",
     "text": [
      "10\n"
     ]
    }
   ],
   "source": [
    "# change the connection limit of the Connection class\n",
    "Connection.conn_limit = 11\n",
    "\n",
    "# print the connection limit of the private connection again\n",
    "print(private_conn.conn_limit)"
   ]
  },
  {
   "cell_type": "code",
   "execution_count": 13,
   "id": "06f8bca2",
   "metadata": {},
   "outputs": [
    {
     "data": {
      "text/plain": [
       "\"\\nConclusions:\\n- In this version of the Connection class, we use the length of 'connections' to keep track\\nof the number of active connections for each instance of the class. We also use the class's\\nport attribute as a default value for the port argument in the constructor, if no specific\\nport is provided.\\n\\n- Using the class explicitly (e.g. self.__class__.connections) could create problems if we\\nlater create a subclass that inherits from the Connection class. In this case, the subclass\\nwould also have its own connections list, which could lead to confusion and errors if we're\\nnot careful. To avoid this, it's better to use instance variables and the self keyword\\nwhenever possible, instead of relying on the class directly.\\n\""
      ]
     },
     "execution_count": 13,
     "metadata": {},
     "output_type": "execute_result"
    }
   ],
   "source": [
    "'''\n",
    "Conclusions:\n",
    "- In this version of the Connection class, we use the length of 'connections' to keep track\n",
    "of the number of active connections for each instance of the class. We also use the class's\n",
    "port attribute as a default value for the port argument in the constructor, if no specific\n",
    "port is provided.\n",
    "\n",
    "- Using the class explicitly (e.g. self.__class__.connections) could create problems if we\n",
    "later create a subclass that inherits from the Connection class. In this case, the subclass\n",
    "would also have its own connections list, which could lead to confusion and errors if we're\n",
    "not careful. To avoid this, it's better to use instance variables and the self keyword\n",
    "whenever possible, instead of relying on the class directly.\n",
    "'''"
   ]
  },
  {
   "cell_type": "code",
   "execution_count": 14,
   "id": "b9177ded",
   "metadata": {},
   "outputs": [],
   "source": [
    "#Use the @classmethod\n",
    "\n",
    "class ConnectionManager:\n",
    "    port = 55000\n",
    "    conn_limit = 10\n",
    "    connections = []\n",
    "    \n",
    "    @classmethod\n",
    "    def get_next_port(cls):\n",
    "        return cls.port + len(cls.connections)\n",
    "    \n",
    "    @classmethod\n",
    "    def get_connection_count(cls):\n",
    "        return len(cls.connections)\n",
    "    \n",
    "    @classmethod\n",
    "    def add_connection(cls, connection):\n",
    "        if len(cls.connections) < cls.conn_limit:\n",
    "            cls.connections.append(connection)\n",
    "        else:\n",
    "            print(f\"Connection limit of {cls.conn_limit} reached.\")\n",
    "    \n",
    "    @classmethod\n",
    "    def remove_connection(cls, connection):\n",
    "        cls.connections.remove(connection)\n",
    "        \n",
    "    @classmethod\n",
    "    #for calling an instance method of a given connection object\n",
    "    def close_connection(cls, connection):\n",
    "        connection.close()\n",
    "\n",
    "class Connection:\n",
    "    \n",
    "    def __init__(self, host):\n",
    "        self.host = host\n",
    "        self.port = ConnectionManager.get_next_port()\n",
    "        ConnectionManager.add_connection(self)\n",
    "        print(f\"Connection established with {self.host}:{self.port}\")\n",
    "        \n",
    "    def close(self):\n",
    "        ConnectionManager.remove_connection(self)\n",
    "        print(f\"Connection closed with {self.host}:{self.port}\")\n",
    "        \n",
    "    def __repr__(self):\n",
    "        return f\"{self.host}:{self.port}\"\n",
    "        \n",
    "class PrivateConnection(ConnectionManager):\n",
    "    \n",
    "    @classmethod\n",
    "    def get_next_port(cls):\n",
    "        return cls.port + len(cls.connections)\n",
    "    \n",
    "    @classmethod\n",
    "    def get_connection_count(cls):\n",
    "        return len(cls.connections)\n",
    "    \n",
    "    @classmethod\n",
    "    def add_connection(cls, connection):\n",
    "        if len(cls.connections) < cls.conn_limit:\n",
    "            cls.connections.append(connection)\n",
    "        else:\n",
    "            print(f\"Connection limit of {cls.conn_limit} reached for private connection\")\n",
    "    \n",
    "    @classmethod\n",
    "    def remove_connection(cls, connection):\n",
    "        cls.connections.remove(connection)\n",
    "    \n",
    "    def __init__(self, host):\n",
    "        self.host = host\n",
    "        self.port = PrivateConnection.get_next_port()\n",
    "        PrivateConnection.add_connection(self)\n",
    "        print(f\"Private connection established with {self.host}\")"
   ]
  },
  {
   "cell_type": "code",
   "execution_count": 15,
   "id": "8cc3979c",
   "metadata": {},
   "outputs": [
    {
     "name": "stdout",
     "output_type": "stream",
     "text": [
      "Connection established with localhost:55000\n",
      "Connection established with example.com:55001\n",
      "Private connection established with localhost\n",
      "Connection established with localhost-0:55003\n",
      "Connection established with localhost-1:55004\n",
      "Connection established with localhost-2:55005\n",
      "Connection established with localhost-3:55006\n",
      "Connection established with localhost-4:55007\n",
      "Connection established with localhost-5:55008\n",
      "Connection established with localhost-6:55009\n",
      "Connection limit of 10 reached.\n",
      "Connection established with localhost-7:55010\n",
      "Connection limit of 10 reached.\n",
      "Connection established with localhost-8:55010\n",
      "Connection limit of 10 reached.\n",
      "Connection established with localhost-9:55010\n",
      "Connection limit of 10 reached for private connection\n",
      "Private connection established with localhost-0\n",
      "Connection limit of 10 reached for private connection\n",
      "Private connection established with localhost-1\n",
      "Connection limit of 10 reached for private connection\n",
      "Private connection established with localhost-2\n",
      "Connection limit of 10 reached for private connection\n",
      "Private connection established with localhost-3\n",
      "Connection limit of 10 reached for private connection\n",
      "Private connection established with localhost-4\n",
      "Connection limit of 10 reached for private connection\n",
      "Private connection established with localhost-5\n",
      "Connection limit of 10 reached for private connection\n",
      "Private connection established with localhost-6\n",
      "Connection limit of 10 reached for private connection\n",
      "Private connection established with localhost-7\n",
      "Connection limit of 10 reached for private connection\n",
      "Private connection established with localhost-8\n",
      "Connection limit of 10 reached for private connection\n",
      "Private connection established with localhost-9\n",
      "10\n",
      "55010\n",
      "Connection closed with example.com:55001\n",
      "8\n"
     ]
    }
   ],
   "source": [
    "# Create two connections\n",
    "connection1 = Connection(\"localhost\")\n",
    "connection2 = Connection(\"example.com\")\n",
    "\n",
    "# Create a private connection\n",
    "private_connection1 = PrivateConnection(\"localhost\")\n",
    "\n",
    "# Try to create too many connections\n",
    "for i in range(10):\n",
    "    Connection(f\"localhost-{i}\")\n",
    "    \n",
    "# Try to create too many private connections\n",
    "for i in range(10):\n",
    "    PrivateConnection(f\"localhost-{i}\")\n",
    "    \n",
    "# Get the number of connections\n",
    "print(ConnectionManager.get_connection_count()) # Output: 2\n",
    "\n",
    "# Get the next available port\n",
    "print(ConnectionManager.get_next_port()) # Output: 55002\n",
    "\n",
    "# Remove one of the connections\n",
    "ConnectionManager.remove_connection(connection1)\n",
    "\n",
    "# Close the other connection\n",
    "ConnectionManager.close_connection(connection2)\n",
    "\n",
    "# Get the number of connections again\n",
    "print(ConnectionManager.get_connection_count()) # Output: 1"
   ]
  },
  {
   "cell_type": "code",
   "execution_count": 16,
   "id": "506e1a0d",
   "metadata": {},
   "outputs": [
    {
     "data": {
      "text/plain": [
       "'\\nConclusions:\\n\\n- We can call an instance method from a class method, as long as\\nwe pass an instance object to the class method as a parameter.\\n\\n- We can call a class method from an instance method, by using the\\nclass name to call the method, like ClassName.class_method()\\n'"
      ]
     },
     "execution_count": 16,
     "metadata": {},
     "output_type": "execute_result"
    }
   ],
   "source": [
    "'''\n",
    "Conclusions:\n",
    "\n",
    "- We can call an instance method from a class method, as long as\n",
    "we pass an instance object to the class method as a parameter.\n",
    "\n",
    "- We can call a class method from an instance method, by using the\n",
    "class name to call the method, like ClassName.class_method()\n",
    "'''"
   ]
  }
 ],
 "metadata": {
  "kernelspec": {
   "display_name": "Python 3 (ipykernel)",
   "language": "python",
   "name": "python3"
  },
  "language_info": {
   "codemirror_mode": {
    "name": "ipython",
    "version": 3
   },
   "file_extension": ".py",
   "mimetype": "text/x-python",
   "name": "python",
   "nbconvert_exporter": "python",
   "pygments_lexer": "ipython3",
   "version": "3.9.13"
  }
 },
 "nbformat": 4,
 "nbformat_minor": 5
}
