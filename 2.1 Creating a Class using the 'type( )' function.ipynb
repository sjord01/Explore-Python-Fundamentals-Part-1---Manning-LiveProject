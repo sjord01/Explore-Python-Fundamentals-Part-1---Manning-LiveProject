{
 "cells": [
  {
   "cell_type": "code",
   "execution_count": 1,
   "id": "b6b4d678",
   "metadata": {},
   "outputs": [
    {
     "name": "stdout",
     "output_type": "stream",
     "text": [
      "Using our class method PriceA\n",
      "The base price is 100\n"
     ]
    }
   ],
   "source": [
    "# Explore Python Fundamentals, Part 1: Manning LiveProject\n",
    "# Project 2: Objects and Methods\n",
    "# Project 2.1 : Creating a Class using the 'type()' function\n",
    "\n",
    "#Create a class Price\n",
    "#The class Price below takes a percentage of tax, multiply it to the base price,\n",
    "#and add it to the base price to give the total price of an item\n",
    "\n",
    "class PriceA:\n",
    "    def __init__(self, add_tax, price):\n",
    "        self.price = price\n",
    "        self.add_tax = add_tax\n",
    "\n",
    "    def get_price(self):\n",
    "        return  self.price\n",
    "\n",
    "shop_price_A = PriceA(0.05, 100)\n",
    "\n",
    "print(\"Using our class method PriceA\")\n",
    "print(f\"The base price is {shop_price_A.get_price()}\")"
   ]
  },
  {
   "cell_type": "code",
   "execution_count": 2,
   "id": "ffb3f31f",
   "metadata": {},
   "outputs": [],
   "source": [
    "#Create functions similar to the functions within class Price;\n",
    "#the new functions will have different names but will have the same method in it.\n",
    "\n",
    "def function__init__(self, add_tax, price):\n",
    "        self.price = price\n",
    "        self.add_tax = add_tax\n",
    "\n",
    "def function_get_price(self):\n",
    "        return  self.price"
   ]
  },
  {
   "cell_type": "code",
   "execution_count": 3,
   "id": "63329a7c",
   "metadata": {},
   "outputs": [],
   "source": [
    "namespace = {\"__init__\": function__init__, \"get_price\": function_get_price}"
   ]
  },
  {
   "cell_type": "code",
   "execution_count": 4,
   "id": "3cdefd1e",
   "metadata": {},
   "outputs": [
    {
     "name": "stdout",
     "output_type": "stream",
     "text": [
      "Using our class method PriceB\n",
      "The base price is 150\n"
     ]
    }
   ],
   "source": [
    "PriceB = type('PriceB', (), namespace)\n",
    "\n",
    "shop_price_B = PriceB(0.075, 150)\n",
    "\n",
    "print(\"Using our class method PriceB\")\n",
    "print(f\"The base price is {shop_price_B.get_price()}\")\n",
    "\n"
   ]
  },
  {
   "cell_type": "code",
   "execution_count": 5,
   "id": "3befa659",
   "metadata": {},
   "outputs": [
    {
     "data": {
      "text/plain": [
       "__main__.PriceA"
      ]
     },
     "execution_count": 5,
     "metadata": {},
     "output_type": "execute_result"
    }
   ],
   "source": [
    "#Check the types\n",
    "type(shop_price_A)"
   ]
  },
  {
   "cell_type": "code",
   "execution_count": 6,
   "id": "b9311bd7",
   "metadata": {},
   "outputs": [
    {
     "data": {
      "text/plain": [
       "__main__.PriceB"
      ]
     },
     "execution_count": 6,
     "metadata": {},
     "output_type": "execute_result"
    }
   ],
   "source": [
    "type(shop_price_B)"
   ]
  },
  {
   "cell_type": "code",
   "execution_count": 7,
   "id": "3e0808d2",
   "metadata": {},
   "outputs": [
    {
     "name": "stdout",
     "output_type": "stream",
     "text": [
      "Attributes of the class =  ['__class__', '__delattr__', '__dict__', '__dir__', '__doc__', '__eq__', '__format__', '__ge__', '__getattribute__', '__gt__', '__hash__', '__init__', '__init_subclass__', '__le__', '__lt__', '__module__', '__ne__', '__new__', '__reduce__', '__reduce_ex__', '__repr__', '__setattr__', '__sizeof__', '__str__', '__subclasshook__', '__weakref__', 'get_price']\n"
     ]
    }
   ],
   "source": [
    "#Check the characteristics of PriceA\n",
    "\n",
    "print('Attributes of the class = ', dir(PriceA))"
   ]
  },
  {
   "cell_type": "code",
   "execution_count": 8,
   "id": "232cae7e",
   "metadata": {},
   "outputs": [
    {
     "name": "stdout",
     "output_type": "stream",
     "text": [
      "Attributes of the class =  ['__class__', '__delattr__', '__dict__', '__dir__', '__doc__', '__eq__', '__format__', '__ge__', '__getattribute__', '__gt__', '__hash__', '__init__', '__init_subclass__', '__le__', '__lt__', '__module__', '__ne__', '__new__', '__reduce__', '__reduce_ex__', '__repr__', '__setattr__', '__sizeof__', '__str__', '__subclasshook__', '__weakref__', 'get_price']\n"
     ]
    }
   ],
   "source": [
    "#Check the characteristics of PriceB\n",
    "\n",
    "print('Attributes of the class = ', dir(PriceB))\n",
    "      "
   ]
  },
  {
   "cell_type": "code",
   "execution_count": 9,
   "id": "96261e4c",
   "metadata": {},
   "outputs": [],
   "source": [
    "#Conclusion: Creating a class using the 'type()' function is similar\n",
    "#to the conventional way of structuring a class object in Python"
   ]
  }
 ],
 "metadata": {
  "kernelspec": {
   "display_name": "Python 3 (ipykernel)",
   "language": "python",
   "name": "python3"
  },
  "language_info": {
   "codemirror_mode": {
    "name": "ipython",
    "version": 3
   },
   "file_extension": ".py",
   "mimetype": "text/x-python",
   "name": "python",
   "nbconvert_exporter": "python",
   "pygments_lexer": "ipython3",
   "version": "3.9.13"
  }
 },
 "nbformat": 4,
 "nbformat_minor": 5
}
