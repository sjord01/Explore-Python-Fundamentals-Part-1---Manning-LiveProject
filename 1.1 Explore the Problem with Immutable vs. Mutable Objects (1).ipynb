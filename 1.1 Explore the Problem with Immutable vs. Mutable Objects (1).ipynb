{
 "cells": [
  {
   "cell_type": "code",
   "execution_count": 12,
   "id": "eb0f7fc3",
   "metadata": {},
   "outputs": [
    {
     "name": "stdout",
     "output_type": "stream",
     "text": [
      "intvar: 100\n",
      "intvar_a: 200\n"
     ]
    }
   ],
   "source": [
    "# Explore Python Fundamentals, Part 1: Manning LiveProject\n",
    "# Project 1: Variables\n",
    "# Project 1.1 : Explore the Problem with Immutable vs. Mutable Objects\n",
    "\n",
    "# Create an int variable\n",
    "\n",
    "intvar = 100\n",
    "intvar_a = intvar\n",
    "intvar_a = 200\n",
    "\n",
    "print(f\"intvar: {intvar}\")\n",
    "print(f\"intvar_a: {intvar_a}\")"
   ]
  },
  {
   "cell_type": "code",
   "execution_count": 13,
   "id": "c4cfa82d",
   "metadata": {},
   "outputs": [],
   "source": [
    "#Conclusion: Variables containing an integer is 'immutable'"
   ]
  },
  {
   "cell_type": "code",
   "execution_count": 14,
   "id": "9d1a90eb",
   "metadata": {},
   "outputs": [
    {
     "name": "stdout",
     "output_type": "stream",
     "text": [
      "fltvar: 100.111\n",
      "fltvar_a: 200.222\n"
     ]
    }
   ],
   "source": [
    "# Create a float variable\n",
    "\n",
    "fltvar = 100.111\n",
    "fltvar_a = fltvar\n",
    "fltvar_a = 200.222\n",
    "\n",
    "print(f\"fltvar: {fltvar}\")\n",
    "print(f\"fltvar_a: {fltvar_a}\")"
   ]
  },
  {
   "cell_type": "code",
   "execution_count": 15,
   "id": "748b0a2f",
   "metadata": {},
   "outputs": [],
   "source": [
    "#Conclusion: Variables containing a float number is 'immutable'"
   ]
  },
  {
   "cell_type": "code",
   "execution_count": 16,
   "id": "07e7c0fb",
   "metadata": {},
   "outputs": [
    {
     "name": "stdout",
     "output_type": "stream",
     "text": [
      "strvar: alpha\n",
      "strvar_a: omega\n"
     ]
    }
   ],
   "source": [
    "# Create a string variable\n",
    "\n",
    "strvar = \"alpha\"\n",
    "strvar_a = strvar\n",
    "strvar_a = \"omega\"\n",
    "\n",
    "print(f\"strvar: {strvar}\")\n",
    "print(f\"strvar_a: {strvar_a}\")"
   ]
  },
  {
   "cell_type": "code",
   "execution_count": null,
   "id": "5bc65fd3",
   "metadata": {},
   "outputs": [],
   "source": [
    "#Conclusion: Variables containing a string is 'immutable'"
   ]
  },
  {
   "cell_type": "code",
   "execution_count": 18,
   "id": "943c5ed2",
   "metadata": {},
   "outputs": [
    {
     "name": "stdout",
     "output_type": "stream",
     "text": [
      "listvar: [1, 2.0, 'three', 'number three', {'b', 100, 'a'}]\n",
      "listvar_a: [1, 2.0, 'three', 'number three', {'b', 100, 'a'}]\n"
     ]
    }
   ],
   "source": [
    "# Create a list variable\n",
    "\n",
    "listvar = [1, 2.0, \"three\", (5.0, \"six\"), {'a', 100, 'b'}] #list variable\n",
    "listvar_a = listvar\n",
    "\n",
    "#Change values in the variable listvar_a\n",
    "listvar_a[3] = \"number three\"\n",
    "\n",
    "print(f\"listvar: {listvar}\")\n",
    "print(f\"listvar_a: {listvar_a}\")"
   ]
  },
  {
   "cell_type": "code",
   "execution_count": 20,
   "id": "92c3f1b7",
   "metadata": {},
   "outputs": [
    {
     "name": "stdout",
     "output_type": "stream",
     "text": [
      "listvar: [1, 2.0, 'three', (5.0, 'six'), {'b', 100, 'a'}]\n",
      "listvar_a: [100, 200, ('list1', 'list2'), {1000.001, 'iou', 'ae'}]\n"
     ]
    }
   ],
   "source": [
    "# Modify the list variable listvar_a\n",
    "\n",
    "listvar = [1, 2.0, \"three\", (5.0, \"six\"), {'a', 100, 'b'}] \n",
    "listvar_a = listvar\n",
    "listvar_a = [100, 200, ('list1', 'list2'), {'ae', 'iou', 1000.001}]\n",
    "print(f\"listvar: {listvar}\")\n",
    "print(f\"listvar_a: {listvar_a}\")"
   ]
  },
  {
   "cell_type": "code",
   "execution_count": 21,
   "id": "925576d8",
   "metadata": {},
   "outputs": [],
   "source": [
    "#Conclusion: Variables containing a list of element is 'mutable'"
   ]
  },
  {
   "cell_type": "code",
   "execution_count": 22,
   "id": "8eda941b",
   "metadata": {},
   "outputs": [
    {
     "ename": "TypeError",
     "evalue": "'tuple' object does not support item assignment",
     "output_type": "error",
     "traceback": [
      "\u001b[0;31m---------------------------------------------------------------------------\u001b[0m",
      "\u001b[0;31mTypeError\u001b[0m                                 Traceback (most recent call last)",
      "\u001b[0;32m/var/folders/w5/lv0fm9k15fb7kf7ph4_j959c0000gn/T/ipykernel_71312/1835435606.py\u001b[0m in \u001b[0;36m<module>\u001b[0;34m\u001b[0m\n\u001b[1;32m      5\u001b[0m \u001b[0;34m\u001b[0m\u001b[0m\n\u001b[1;32m      6\u001b[0m \u001b[0;31m#Change values of tuplevar_a\u001b[0m\u001b[0;34m\u001b[0m\u001b[0;34m\u001b[0m\u001b[0m\n\u001b[0;32m----> 7\u001b[0;31m \u001b[0mtuplevar_a\u001b[0m\u001b[0;34m[\u001b[0m\u001b[0;36m1\u001b[0m\u001b[0;34m]\u001b[0m \u001b[0;34m=\u001b[0m \u001b[0;36m777.777\u001b[0m\u001b[0;34m\u001b[0m\u001b[0;34m\u001b[0m\u001b[0m\n\u001b[0m\u001b[1;32m      8\u001b[0m \u001b[0;34m\u001b[0m\u001b[0m\n\u001b[1;32m      9\u001b[0m \u001b[0;34m\u001b[0m\u001b[0m\n",
      "\u001b[0;31mTypeError\u001b[0m: 'tuple' object does not support item assignment"
     ]
    }
   ],
   "source": [
    "# Create a tuple variable\n",
    "\n",
    "tuplevar = (1, 2.0, \"three\", [5.0, \"six\"], {'a', 100, 'b'})\n",
    "tuplevar_a = tuplevar\n",
    "\n",
    "#Change values of tuplevar_a\n",
    "tuplevar_a[1] = 777.777\n",
    "\n",
    "\n",
    "print(f\"tuplevar: {tuplevar}\")\n",
    "print(f\"tuplevar_a: {tuplevar_a}\")"
   ]
  },
  {
   "cell_type": "code",
   "execution_count": 23,
   "id": "ba700ecb",
   "metadata": {},
   "outputs": [
    {
     "name": "stdout",
     "output_type": "stream",
     "text": [
      "tuplevar: (1, 2.0, 'three', [5.0, 'six'], {'b', 100, 'a'})\n",
      "tuplevar_a: (100, 2, 'number three', (11, 12, 13.0), {'one': 1, 'two': 2, 'three': 3})\n"
     ]
    }
   ],
   "source": [
    "# Modify the tuple variable tuplevar_a \n",
    "\n",
    "tuplevar = (1, 2.0, \"three\", [5.0, \"six\"], {'a', 100, 'b'})\n",
    "tuplevar_a = tuplevar\n",
    "tuplevar_a = (100, 2, \"number three\", (11, 12, 13.0), {'one':1, 'two':2, 'three':3})\n",
    "\n",
    "print(f\"tuplevar: {tuplevar}\")\n",
    "print(f\"tuplevar_a: {tuplevar_a}\")"
   ]
  },
  {
   "cell_type": "code",
   "execution_count": 24,
   "id": "8d03542b",
   "metadata": {},
   "outputs": [],
   "source": [
    "# Conclusion: Tuples are \"immutable\"; re-assigning elements within it are not possible"
   ]
  },
  {
   "cell_type": "code",
   "execution_count": 25,
   "id": "6a73dc3a",
   "metadata": {},
   "outputs": [
    {
     "name": "stdout",
     "output_type": "stream",
     "text": [
      "dictvar: {900: 'nine hundred', 5: 500, 'abc': 321, 777.777: 'seven hundred seventy-seven', 'def': 456}\n",
      "dictvar_a: {900: 'nine hundred', 5: 500, 'abc': 321, 777.777: 'seven hundred seventy-seven', 'def': 456}\n"
     ]
    }
   ],
   "source": [
    "# Create a dict element\n",
    "\n",
    "dictvar = {900:\"nine hundred\", 5: \"five\", 'abc': 123, 777.777:\"seven hundred seventy-seven\", 'def':456}\n",
    "dictvar_a = dictvar\n",
    "dictvar_a[5] = 500\n",
    "dictvar_a['abc'] = 321\n",
    "\n",
    "print(f\"dictvar: {dictvar}\")\n",
    "print(f\"dictvar_a: {dictvar_a}\")"
   ]
  },
  {
   "cell_type": "code",
   "execution_count": 26,
   "id": "9cccf0f5",
   "metadata": {},
   "outputs": [
    {
     "name": "stdout",
     "output_type": "stream",
     "text": [
      "dictvar: {900: 'nine hundred', 5: 'five', 'abc': 123, 777.777: 'seven hundred seventy-seven', 'def': 456}\n",
      "dictvar_a: {700: 'seven hundred', 6: 'six', 'cba': 321, 555.555: 'five hundred fifty-five', 'fed': 654}\n"
     ]
    }
   ],
   "source": [
    "#Change value of dictvar_a\n",
    "\n",
    "dictvar = {900:\"nine hundred\", 5: \"five\", 'abc': 123, 777.777:\"seven hundred seventy-seven\", 'def':456}\n",
    "dictvar_a = dictvar\n",
    "dictvar_a = {700:\"seven hundred\", 6: \"six\", 'cba': 321, 555.555:\"five hundred fifty-five\", 'fed':654}\n",
    "\n",
    "print(f\"dictvar: {dictvar}\")\n",
    "print(f\"dictvar_a: {dictvar_a}\")"
   ]
  },
  {
   "cell_type": "code",
   "execution_count": 10,
   "id": "5f05f554",
   "metadata": {},
   "outputs": [],
   "source": [
    "# Conclusion: Dictionaries are \"mutable\"; re-assigning elements within it are possible"
   ]
  }
 ],
 "metadata": {
  "kernelspec": {
   "display_name": "Python 3 (ipykernel)",
   "language": "python",
   "name": "python3"
  },
  "language_info": {
   "codemirror_mode": {
    "name": "ipython",
    "version": 3
   },
   "file_extension": ".py",
   "mimetype": "text/x-python",
   "name": "python",
   "nbconvert_exporter": "python",
   "pygments_lexer": "ipython3",
   "version": "3.9.13"
  }
 },
 "nbformat": 4,
 "nbformat_minor": 5
}
