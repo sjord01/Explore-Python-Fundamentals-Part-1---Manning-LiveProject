{
 "cells": [
  {
   "cell_type": "code",
   "execution_count": 1,
   "id": "6619e0f4",
   "metadata": {},
   "outputs": [],
   "source": [
    "# Explore Python Fundamentals, Part 1: Manning LiveProject\n",
    "# Project 4: Class Methods and Variables\n",
    "# Project 4.1: Workflow: Inheriting from Another Class\n",
    "\n",
    "class Animal:\n",
    "    def __init__(self, name):\n",
    "        self.name = name\n",
    "\n",
    "    def __repr__(self):\n",
    "        return f\"{self.__class__.__name__}('{self.name}')\"\n",
    "\n",
    "class Walk:\n",
    "    def walk(self):\n",
    "        print(f\"{self.name} is walking.\")\n",
    "\n",
    "class Hop:\n",
    "    def hop(self, length):\n",
    "        print(f\"{self.name} the {self.__class__.__name__} can hop {length} feet long!\")\n",
    "        \n",
    "    \n",
    "class Fly:\n",
    "    def fly(self):\n",
    "        print(f\"{self.name} is flying.\")\n",
    "\n",
    "class Swim:\n",
    "    def swim(self, depth):\n",
    "        if depth >= 2:\n",
    "            print(f\"{self.name} the {self.__class__.__name__} is swimming at depth of {depth} feet.\")\n",
    "        else:\n",
    "            print(f\"{self.name} the {self.__class__.__name__} may not be an aquatic animal!\")\n",
    "            print(f\"But it's amzaing to know this {self.__class__.__name__} can swim {depth} feet deep.!\")\n",
    "\n",
    "class Bird(Animal, Fly, Walk, Hop, Swim):\n",
    "    pass\n",
    "\n",
    "class Mammal(Animal, Walk, Hop, Swim):\n",
    "    pass\n",
    "\n",
    "class AquaticAnimal(Animal, Walk, Swim, Hop):\n",
    "    pass\n",
    "\n",
    "class Bear(Mammal):\n",
    "    pass\n",
    "\n",
    "class Wolf(Mammal):\n",
    "    pass\n",
    "\n",
    "class Eagle(Bird):\n",
    "    pass\n",
    "\n",
    "class Duck(Bird):\n",
    "    pass\n",
    "\n",
    "class Fish(AquaticAnimal):\n",
    "    pass\n",
    "\n",
    "class Amphibian(AquaticAnimal):\n",
    "    pass\n",
    "\n",
    "class Frog(Amphibian):\n",
    "    pass\n",
    "\n",
    "class Trout(Fish):\n",
    "    pass\n",
    "\n",
    "class Platypus(Mammal):\n",
    "    pass\n",
    "\n",
    "class Kangaroo(Mammal):\n",
    "    pass\n"
   ]
  },
  {
   "cell_type": "code",
   "execution_count": 2,
   "id": "6997f658",
   "metadata": {},
   "outputs": [
    {
     "data": {
      "text/plain": [
       "'\\n\\nReview our class hierarchy:\\n\\nAnimal\\n├── Bird             #Birds generally fly, but some can walk, swim!\\n│   ├── Eagle\\n│   └── Duck\\n├── Mammal           #Mammals generally walk, some hop and some can even swim too!\\n│   ├── Bear\\n│   └── Wolf\\n└── AquaticAnimal    #Aquatic animals tend to stay in water and swim, but some can walk and fly too!\\n    ├── Fish\\n    │   └── Trout\\n    └── Amphibian\\n        └── Frog\\n'"
      ]
     },
     "execution_count": 2,
     "metadata": {},
     "output_type": "execute_result"
    }
   ],
   "source": [
    "'''\n",
    "\n",
    "Review our class hierarchy:\n",
    "\n",
    "Animal\n",
    "├── Bird             #Birds generally fly, but some can walk, swim!\n",
    "│   ├── Eagle\n",
    "│   └── Duck\n",
    "├── Mammal           #Mammals generally walk, some hop and some can even swim too!\n",
    "│   ├── Bear\n",
    "│   └── Wolf\n",
    "└── AquaticAnimal    #Aquatic animals tend to stay in water and swim, but some can walk and fly too!\n",
    "    ├── Fish\n",
    "    │   └── Trout\n",
    "    └── Amphibian\n",
    "        └── Frog\n",
    "'''"
   ]
  },
  {
   "cell_type": "code",
   "execution_count": 3,
   "id": "567b5fa8",
   "metadata": {},
   "outputs": [
    {
     "name": "stdout",
     "output_type": "stream",
     "text": [
      "Kang the Kangaroo can hop 2 feet long!\n",
      "Pedro is walking.\n",
      "Pedro the Platypus is swimming at depth of 2 feet.\n",
      "Edward is flying.\n",
      "Duffy is flying.\n",
      "Duffy the Duck may not be an aquatic animal!\n",
      "But it's amzaing to know this Duck can swim 1 feet deep.!\n",
      "Nemo the Fish is swimming at depth of 3 feet.\n",
      "Nemo the Fish is swimming at depth of 5 feet.\n",
      "Alana is walking.\n",
      "Alana the Amphibian is swimming at depth of 3 feet.\n",
      "Freda is walking.\n",
      "Freda the Frog can hop 2 feet long!\n",
      "Rumple the Trout is swimming at depth of 10 feet.\n"
     ]
    }
   ],
   "source": [
    "# Create instances of each class\n",
    "kangaroo = Kangaroo(\"Kang\")\n",
    "platypus = Platypus(\"Pedro\")\n",
    "eagle = Eagle(\"Edward\")\n",
    "duck = Duck(\"Duffy\")\n",
    "fish = Fish(\"Nemo\")\n",
    "amphibian = Amphibian(\"Alana\")\n",
    "frog = Frog(\"Freda\")\n",
    "trout = Trout(\"Rumple\")\n",
    "\n",
    "# Call the respective methods on each instance\n",
    "kangaroo.hop(2)\n",
    "platypus.walk()\n",
    "platypus.swim(2)\n",
    "eagle.fly()\n",
    "duck.fly()\n",
    "duck.swim(1)\n",
    "fish.swim(3)\n",
    "fish.swim(5)\n",
    "amphibian.walk()\n",
    "amphibian.swim(3)\n",
    "frog.walk()\n",
    "frog.hop(2)       \n",
    "trout.swim(10)   \n"
   ]
  },
  {
   "cell_type": "code",
   "execution_count": 4,
   "id": "8fb4ccc4",
   "metadata": {},
   "outputs": [
    {
     "data": {
      "text/plain": [
       "\"\\n- The class hierarchy has been reworked to abstract the animals' forms of movement into classes,\\nand then have each animal inherit from the movement classes it needs. These movement classes are\\ncalled mixins.\\n\\n- The Animal class is the parent class of all the other classes, and it provides the name attribute\\nand the __repr__ method to display the name of the instance.\\n\\n- The Bird, Mammal, and AquaticAnimal classes are mixins that define the methods fly, walk, hop and\\nswim, respectively.\\n\\n- The Bear, Wolf, Eagle, Duck, Fish, Amphibian, Frog, Trout, Kangaroo, and Platypus classes are the\\nchild classes that inherit from their respective mixins, depending on their form of movement.\\n\\n- Each instance can call the method(s) corresponding to its form(s) of movement.\\n\\n- The code and examples demonstrate how mixins can be used to create reusable functionality that can\\nbe easily combined with other classes to create new classes with different behaviors. By separating\\nthe functionality into mixins, we can avoid repeating code and simplify the class hierarchy.\\n\""
      ]
     },
     "execution_count": 4,
     "metadata": {},
     "output_type": "execute_result"
    }
   ],
   "source": [
    "'''\n",
    "- The class hierarchy has been reworked to abstract the animals' forms of movement into classes,\n",
    "and then have each animal inherit from the movement classes it needs. These movement classes are\n",
    "called mixins.\n",
    "\n",
    "- The Animal class is the parent class of all the other classes, and it provides the name attribute\n",
    "and the __repr__ method to display the name of the instance.\n",
    "\n",
    "- The Bird, Mammal, and AquaticAnimal classes are mixins that define the methods fly, walk, hop and\n",
    "swim, respectively.\n",
    "\n",
    "- The Bear, Wolf, Eagle, Duck, Fish, Amphibian, Frog, Trout, Kangaroo, and Platypus classes are the\n",
    "child classes that inherit from their respective mixins, depending on their form of movement.\n",
    "\n",
    "- Each instance can call the method(s) corresponding to its form(s) of movement.\n",
    "\n",
    "- The code and examples demonstrate how mixins can be used to create reusable functionality that can\n",
    "be easily combined with other classes to create new classes with different behaviors. By separating\n",
    "the functionality into mixins, we can avoid repeating code and simplify the class hierarchy.\n",
    "'''"
   ]
  }
 ],
 "metadata": {
  "kernelspec": {
   "display_name": "Python 3 (ipykernel)",
   "language": "python",
   "name": "python3"
  },
  "language_info": {
   "codemirror_mode": {
    "name": "ipython",
    "version": 3
   },
   "file_extension": ".py",
   "mimetype": "text/x-python",
   "name": "python",
   "nbconvert_exporter": "python",
   "pygments_lexer": "ipython3",
   "version": "3.9.13"
  }
 },
 "nbformat": 4,
 "nbformat_minor": 5
}
