{
 "cells": [
  {
   "cell_type": "code",
   "execution_count": 1,
   "id": "b6b4d678",
   "metadata": {},
   "outputs": [
    {
     "data": {
      "text/plain": [
       "100"
      ]
     },
     "execution_count": 1,
     "metadata": {},
     "output_type": "execute_result"
    }
   ],
   "source": [
    "# Explore Python Fundamentals, Part 1: Manning LiveProject\n",
    "# Project 2: Objects and Methods\n",
    "# Project 2.2: Workflow: Exploring Objects and Instance Methods\n",
    "\n",
    "#Create a class Price\n",
    "\n",
    "class Price:\n",
    "    def __init__(self, part_number, price):\n",
    "        self.price = price\n",
    "        self.part_number = part_number\n",
    "\n",
    "    def get_price(self):\n",
    "        return  self.price\n",
    "\n",
    "item_price = Price('V3M1J9', 100)\n",
    "item_price.get_price()"
   ]
  },
  {
   "cell_type": "code",
   "execution_count": 2,
   "id": "bdbf4a21",
   "metadata": {},
   "outputs": [
    {
     "data": {
      "text/plain": [
       "['__class__',\n",
       " '__delattr__',\n",
       " '__dict__',\n",
       " '__dir__',\n",
       " '__doc__',\n",
       " '__eq__',\n",
       " '__format__',\n",
       " '__ge__',\n",
       " '__getattribute__',\n",
       " '__gt__',\n",
       " '__hash__',\n",
       " '__init__',\n",
       " '__init_subclass__',\n",
       " '__le__',\n",
       " '__lt__',\n",
       " '__module__',\n",
       " '__ne__',\n",
       " '__new__',\n",
       " '__reduce__',\n",
       " '__reduce_ex__',\n",
       " '__repr__',\n",
       " '__setattr__',\n",
       " '__sizeof__',\n",
       " '__str__',\n",
       " '__subclasshook__',\n",
       " '__weakref__',\n",
       " 'get_price']"
      ]
     },
     "execution_count": 2,
     "metadata": {},
     "output_type": "execute_result"
    }
   ],
   "source": [
    "#Check the dir() and __dict__. of the class and instance\n",
    "dir(Price)"
   ]
  },
  {
   "cell_type": "code",
   "execution_count": 3,
   "id": "b9a8b9a9",
   "metadata": {},
   "outputs": [
    {
     "data": {
      "text/plain": [
       "['__class__',\n",
       " '__delattr__',\n",
       " '__dict__',\n",
       " '__dir__',\n",
       " '__doc__',\n",
       " '__eq__',\n",
       " '__format__',\n",
       " '__ge__',\n",
       " '__getattribute__',\n",
       " '__gt__',\n",
       " '__hash__',\n",
       " '__init__',\n",
       " '__init_subclass__',\n",
       " '__le__',\n",
       " '__lt__',\n",
       " '__module__',\n",
       " '__ne__',\n",
       " '__new__',\n",
       " '__reduce__',\n",
       " '__reduce_ex__',\n",
       " '__repr__',\n",
       " '__setattr__',\n",
       " '__sizeof__',\n",
       " '__str__',\n",
       " '__subclasshook__',\n",
       " '__weakref__',\n",
       " 'get_price',\n",
       " 'part_number',\n",
       " 'price']"
      ]
     },
     "execution_count": 3,
     "metadata": {},
     "output_type": "execute_result"
    }
   ],
   "source": [
    "dir(item_price)"
   ]
  },
  {
   "cell_type": "code",
   "execution_count": 4,
   "id": "31e369ed",
   "metadata": {},
   "outputs": [
    {
     "data": {
      "text/plain": [
       "mappingproxy({'__module__': '__main__',\n",
       "              '__init__': <function __main__.Price.__init__(self, part_number, price)>,\n",
       "              'get_price': <function __main__.Price.get_price(self)>,\n",
       "              '__dict__': <attribute '__dict__' of 'Price' objects>,\n",
       "              '__weakref__': <attribute '__weakref__' of 'Price' objects>,\n",
       "              '__doc__': None})"
      ]
     },
     "execution_count": 4,
     "metadata": {},
     "output_type": "execute_result"
    }
   ],
   "source": [
    "Price.__dict__"
   ]
  },
  {
   "cell_type": "code",
   "execution_count": 5,
   "id": "fa2d0b70",
   "metadata": {},
   "outputs": [
    {
     "data": {
      "text/plain": [
       "{'price': 100, 'part_number': 'V3M1J9'}"
      ]
     },
     "execution_count": 5,
     "metadata": {},
     "output_type": "execute_result"
    }
   ],
   "source": [
    "item_price.__dict__"
   ]
  },
  {
   "cell_type": "code",
   "execution_count": 6,
   "id": "125109ce",
   "metadata": {},
   "outputs": [
    {
     "data": {
      "text/plain": [
       "'dir() function returns list of the attributes and methods of any object\\n(say functions , modules, strings, lists, dictionaries etc.),\\n\\nwhile .__dict__ returns all attributes defined for that object itself.\\n'"
      ]
     },
     "execution_count": 6,
     "metadata": {},
     "output_type": "execute_result"
    }
   ],
   "source": [
    "#Conclusion:\n",
    "\n",
    "'''dir() function returns list of the attributes and methods of any object\n",
    "(say functions , modules, strings, lists, dictionaries etc.),\n",
    "\n",
    "while .__dict__ returns all attributes defined for that object itself.\n",
    "'''"
   ]
  },
  {
   "cell_type": "code",
   "execution_count": 7,
   "id": "b312d946",
   "metadata": {},
   "outputs": [],
   "source": [
    "def set_discount(item_price, percent_off):\n",
    "    item_price.percent_off = percent_off\n",
    "\n",
    "def get_discount_price(item_price):\n",
    "    return item_price.price - (item_price.price * item_price.percent_off)"
   ]
  },
  {
   "cell_type": "code",
   "execution_count": 8,
   "id": "3bb55074",
   "metadata": {},
   "outputs": [],
   "source": [
    "Price.set_discount = set_discount\n",
    "Price.get_discount_price = get_discount_price"
   ]
  },
  {
   "cell_type": "code",
   "execution_count": 9,
   "id": "69087bb1",
   "metadata": {},
   "outputs": [
    {
     "data": {
      "text/plain": [
       "mappingproxy({'__module__': '__main__',\n",
       "              '__init__': <function __main__.Price.__init__(self, part_number, price)>,\n",
       "              'get_price': <function __main__.Price.get_price(self)>,\n",
       "              '__dict__': <attribute '__dict__' of 'Price' objects>,\n",
       "              '__weakref__': <attribute '__weakref__' of 'Price' objects>,\n",
       "              '__doc__': None,\n",
       "              'set_discount': <function __main__.set_discount(item_price, percent_off)>,\n",
       "              'get_discount_price': <function __main__.get_discount_price(item_price)>})"
      ]
     },
     "execution_count": 9,
     "metadata": {},
     "output_type": "execute_result"
    }
   ],
   "source": [
    "#Check ._dict__ of Price\n",
    "Price.__dict__"
   ]
  },
  {
   "cell_type": "code",
   "execution_count": 10,
   "id": "9266801b",
   "metadata": {},
   "outputs": [],
   "source": [
    "#New attributes has been added"
   ]
  },
  {
   "cell_type": "code",
   "execution_count": 11,
   "id": "95849248",
   "metadata": {},
   "outputs": [
    {
     "data": {
      "text/plain": [
       "142.5"
      ]
     },
     "execution_count": 11,
     "metadata": {},
     "output_type": "execute_result"
    }
   ],
   "source": [
    "new_item_price = Price('V3L2K6', 150)\n",
    "set_discount(new_item_price, 0.05)\n",
    "get_discount_price(new_item_price)"
   ]
  },
  {
   "cell_type": "code",
   "execution_count": 12,
   "id": "0508cded",
   "metadata": {},
   "outputs": [],
   "source": [
    "#Correct: 5% off of 150 is 142.5"
   ]
  },
  {
   "cell_type": "code",
   "execution_count": 13,
   "id": "37ae327a",
   "metadata": {},
   "outputs": [],
   "source": [
    "#Try creating another class similar to Price\n",
    "class Price_A:\n",
    "    def __init__(self, part_number, price):\n",
    "        self.price = price\n",
    "        self.part_number = part_number\n",
    "\n",
    "    def get_price(self):\n",
    "        return  self.price    "
   ]
  },
  {
   "cell_type": "code",
   "execution_count": 14,
   "id": "2cbe65e0",
   "metadata": {},
   "outputs": [],
   "source": [
    "item_price_A = Price_A(\"V3L2K6\", 250)\n",
    "\n",
    "item_price_A.set_discount = set_discount\n",
    "item_price_A.get_discount_price = get_discount_price\n"
   ]
  },
  {
   "cell_type": "code",
   "execution_count": 15,
   "id": "f54e7468",
   "metadata": {},
   "outputs": [
    {
     "data": {
      "text/plain": [
       "187.5"
      ]
     },
     "execution_count": 15,
     "metadata": {},
     "output_type": "execute_result"
    }
   ],
   "source": [
    "set_discount(item_price_A, .25)\n",
    "get_discount_price(item_price_A)"
   ]
  },
  {
   "cell_type": "code",
   "execution_count": 16,
   "id": "460c6d03",
   "metadata": {},
   "outputs": [],
   "source": [
    "#Correct: 25% off of 250 is 187.5"
   ]
  },
  {
   "cell_type": "code",
   "execution_count": 17,
   "id": "b2cc09f1",
   "metadata": {},
   "outputs": [
    {
     "data": {
      "text/plain": [
       "{'price': 250,\n",
       " 'part_number': 'V3L2K6',\n",
       " 'set_discount': <function __main__.set_discount(item_price, percent_off)>,\n",
       " 'get_discount_price': <function __main__.get_discount_price(item_price)>,\n",
       " 'percent_off': 0.25}"
      ]
     },
     "execution_count": 17,
     "metadata": {},
     "output_type": "execute_result"
    }
   ],
   "source": [
    "item_price_A.__dict__"
   ]
  },
  {
   "cell_type": "code",
   "execution_count": 18,
   "id": "8e7b0508",
   "metadata": {},
   "outputs": [
    {
     "data": {
      "text/plain": [
       "mappingproxy({'__module__': '__main__',\n",
       "              '__init__': <function __main__.Price_A.__init__(self, part_number, price)>,\n",
       "              'get_price': <function __main__.Price_A.get_price(self)>,\n",
       "              '__dict__': <attribute '__dict__' of 'Price_A' objects>,\n",
       "              '__weakref__': <attribute '__weakref__' of 'Price_A' objects>,\n",
       "              '__doc__': None})"
      ]
     },
     "execution_count": 18,
     "metadata": {},
     "output_type": "execute_result"
    }
   ],
   "source": [
    "Price_A.__dict__"
   ]
  },
  {
   "cell_type": "code",
   "execution_count": 19,
   "id": "cbbd2644",
   "metadata": {},
   "outputs": [
    {
     "data": {
      "text/plain": [
       "\"\\nConclusion:\\n\\n- Adding methods after a class has been defined, also called 'monkey patching', still works for as long as\\nproper syntax is followed.\\n- Creating a new class creates a new type of object, allowing new instances of that type to be made.\\n- Each class instance can have attributes attached to it for maintaining its state.\\n- Class instances can also have methods (defined by their class) for modifying their state.\\n\""
      ]
     },
     "execution_count": 19,
     "metadata": {},
     "output_type": "execute_result"
    }
   ],
   "source": [
    "'''\n",
    "Conclusion:\n",
    "\n",
    "- Adding methods after a class has been defined, also called 'monkey patching', still works for as long as\n",
    "proper syntax is followed.\n",
    "- Creating a new class creates a new type of object, allowing new instances of that type to be made.\n",
    "- Each class instance can have attributes attached to it for maintaining its state.\n",
    "- Class instances can also have methods (defined by their class) for modifying their state.\n",
    "'''"
   ]
  }
 ],
 "metadata": {
  "kernelspec": {
   "display_name": "Python 3 (ipykernel)",
   "language": "python",
   "name": "python3"
  },
  "language_info": {
   "codemirror_mode": {
    "name": "ipython",
    "version": 3
   },
   "file_extension": ".py",
   "mimetype": "text/x-python",
   "name": "python",
   "nbconvert_exporter": "python",
   "pygments_lexer": "ipython3",
   "version": "3.9.13"
  }
 },
 "nbformat": 4,
 "nbformat_minor": 5
}
