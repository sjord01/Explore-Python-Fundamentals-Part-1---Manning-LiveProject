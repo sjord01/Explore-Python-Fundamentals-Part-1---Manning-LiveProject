{
 "cells": [
  {
   "cell_type": "code",
   "execution_count": 1,
   "id": "b6b4d678",
   "metadata": {},
   "outputs": [
    {
     "data": {
      "text/plain": [
       "100"
      ]
     },
     "execution_count": 1,
     "metadata": {},
     "output_type": "execute_result"
    }
   ],
   "source": [
    "# Explore Python Fundamentals, Part 1: Manning LiveProject\n",
    "# Project 2: Objects and Methods\n",
    "# Project 2.2: Workflow: Exploring Objects and Instance Methods\n",
    "\n",
    "#Create a class Price\n",
    "\n",
    "class Price:\n",
    "    def __init__(self, part_number, price):\n",
    "        self.price = price\n",
    "        self.part_number = part_number\n",
    "\n",
    "    def get_price(self):\n",
    "        return  self.price\n",
    "\n",
    "item_price = Price('V3M1J9', 100)\n",
    "item_price.get_price()"
   ]
  },
  {
   "cell_type": "code",
   "execution_count": 2,
   "id": "c3c5a0af",
   "metadata": {},
   "outputs": [
    {
     "data": {
      "text/plain": [
       "['__class__',\n",
       " '__delattr__',\n",
       " '__dict__',\n",
       " '__dir__',\n",
       " '__doc__',\n",
       " '__eq__',\n",
       " '__format__',\n",
       " '__ge__',\n",
       " '__getattribute__',\n",
       " '__gt__',\n",
       " '__hash__',\n",
       " '__init__',\n",
       " '__init_subclass__',\n",
       " '__le__',\n",
       " '__lt__',\n",
       " '__module__',\n",
       " '__ne__',\n",
       " '__new__',\n",
       " '__reduce__',\n",
       " '__reduce_ex__',\n",
       " '__repr__',\n",
       " '__setattr__',\n",
       " '__sizeof__',\n",
       " '__str__',\n",
       " '__subclasshook__',\n",
       " '__weakref__',\n",
       " 'get_price']"
      ]
     },
     "execution_count": 2,
     "metadata": {},
     "output_type": "execute_result"
    }
   ],
   "source": [
    "#Check the dir() and __dict__. of the class and instance\n",
    "dir(Price)"
   ]
  },
  {
   "cell_type": "code",
   "execution_count": 3,
   "id": "9ca333cb",
   "metadata": {},
   "outputs": [
    {
     "data": {
      "text/plain": [
       "['__class__',\n",
       " '__delattr__',\n",
       " '__dict__',\n",
       " '__dir__',\n",
       " '__doc__',\n",
       " '__eq__',\n",
       " '__format__',\n",
       " '__ge__',\n",
       " '__getattribute__',\n",
       " '__gt__',\n",
       " '__hash__',\n",
       " '__init__',\n",
       " '__init_subclass__',\n",
       " '__le__',\n",
       " '__lt__',\n",
       " '__module__',\n",
       " '__ne__',\n",
       " '__new__',\n",
       " '__reduce__',\n",
       " '__reduce_ex__',\n",
       " '__repr__',\n",
       " '__setattr__',\n",
       " '__sizeof__',\n",
       " '__str__',\n",
       " '__subclasshook__',\n",
       " '__weakref__',\n",
       " 'get_price',\n",
       " 'part_number',\n",
       " 'price']"
      ]
     },
     "execution_count": 3,
     "metadata": {},
     "output_type": "execute_result"
    }
   ],
   "source": [
    "dir(item_price)"
   ]
  },
  {
   "cell_type": "code",
   "execution_count": 4,
   "id": "3fc86d6f",
   "metadata": {},
   "outputs": [
    {
     "data": {
      "text/plain": [
       "mappingproxy({'__module__': '__main__',\n",
       "              '__init__': <function __main__.Price.__init__(self, part_number, price)>,\n",
       "              'get_price': <function __main__.Price.get_price(self)>,\n",
       "              '__dict__': <attribute '__dict__' of 'Price' objects>,\n",
       "              '__weakref__': <attribute '__weakref__' of 'Price' objects>,\n",
       "              '__doc__': None})"
      ]
     },
     "execution_count": 4,
     "metadata": {},
     "output_type": "execute_result"
    }
   ],
   "source": [
    "Price.__dict__"
   ]
  },
  {
   "cell_type": "code",
   "execution_count": 5,
   "id": "45cd69bc",
   "metadata": {},
   "outputs": [
    {
     "data": {
      "text/plain": [
       "{'price': 100, 'part_number': 'V3M1J9'}"
      ]
     },
     "execution_count": 5,
     "metadata": {},
     "output_type": "execute_result"
    }
   ],
   "source": [
    "item_price.__dict__"
   ]
  },
  {
   "cell_type": "code",
   "execution_count": 6,
   "id": "9e8f1f5a",
   "metadata": {},
   "outputs": [
    {
     "data": {
      "text/plain": [
       "'dir() function returns list of the attributes and methods of any object\\n(say functions , modules, strings, lists, dictionaries etc.),\\n\\nwhile .__dict__ returns all attributes defined for that object itself.\\n'"
      ]
     },
     "execution_count": 6,
     "metadata": {},
     "output_type": "execute_result"
    }
   ],
   "source": [
    "#Conclusion:\n",
    "\n",
    "'''dir() function returns list of the attributes and methods of any object\n",
    "(say functions , modules, strings, lists, dictionaries etc.),\n",
    "\n",
    "while .__dict__ returns all attributes defined for that object itself.\n",
    "'''"
   ]
  },
  {
   "cell_type": "code",
   "execution_count": 7,
   "id": "bc1d35d9",
   "metadata": {},
   "outputs": [],
   "source": [
    "def set_discount(item_price, percent_off):\n",
    "    item_price.percent_off = percent_off\n",
    "\n",
    "def get_discount_price(item_price):\n",
    "    return item_price.price - (item_price.price * item_price.percent_off)"
   ]
  },
  {
   "cell_type": "code",
   "execution_count": 8,
   "id": "8f6290be",
   "metadata": {},
   "outputs": [],
   "source": [
    "Price.set_discount = set_discount\n",
    "Price.get_discount_price = get_discount_price"
   ]
  },
  {
   "cell_type": "code",
   "execution_count": 9,
   "id": "73f65c5a",
   "metadata": {},
   "outputs": [
    {
     "data": {
      "text/plain": [
       "142.5"
      ]
     },
     "execution_count": 9,
     "metadata": {},
     "output_type": "execute_result"
    }
   ],
   "source": [
    "new_item_price = Price('V3L2K6', 150)\n",
    "set_discount(new_item_price, 0.05)\n",
    "get_discount_price(new_item_price)"
   ]
  },
  {
   "cell_type": "code",
   "execution_count": 10,
   "id": "dfed554c",
   "metadata": {},
   "outputs": [],
   "source": [
    "#Correct: 5% off of 150 is 142.5"
   ]
  },
  {
   "cell_type": "code",
   "execution_count": 11,
   "id": "e020c733",
   "metadata": {},
   "outputs": [
    {
     "data": {
      "text/plain": [
       "95.0"
      ]
     },
     "execution_count": 11,
     "metadata": {},
     "output_type": "execute_result"
    }
   ],
   "source": [
    "#Try our original item_price\n",
    "set_discount(item_price, 0.05)\n",
    "get_discount_price(item_price)"
   ]
  },
  {
   "cell_type": "code",
   "execution_count": 12,
   "id": "d9b2eaa6",
   "metadata": {},
   "outputs": [],
   "source": [
    "#Correct: 5% off of 100 is 95"
   ]
  },
  {
   "cell_type": "code",
   "execution_count": 13,
   "id": "c6425b17",
   "metadata": {},
   "outputs": [],
   "source": [
    "#Conclusion: adding methods after a class has been defined,\n",
    "#also called 'monkey patching', still works for as long as\n",
    "#proper syntax is followed"
   ]
  }
 ],
 "metadata": {
  "kernelspec": {
   "display_name": "Python 3 (ipykernel)",
   "language": "python",
   "name": "python3"
  },
  "language_info": {
   "codemirror_mode": {
    "name": "ipython",
    "version": 3
   },
   "file_extension": ".py",
   "mimetype": "text/x-python",
   "name": "python",
   "nbconvert_exporter": "python",
   "pygments_lexer": "ipython3",
   "version": "3.9.13"
  }
 },
 "nbformat": 4,
 "nbformat_minor": 5
}
