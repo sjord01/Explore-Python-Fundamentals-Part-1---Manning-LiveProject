{
 "cells": [
  {
   "cell_type": "code",
   "execution_count": 1,
   "id": "eb0f7fc3",
   "metadata": {},
   "outputs": [
    {
     "name": "stdout",
     "output_type": "stream",
     "text": [
      "listvar: [1, 2.0, 'three', (5.0, 'six'), {'b', 100, 'a'}]\n",
      "listvar_a: [1, 2.0, 'three', (5.0, 'six'), {'b', 100, 'a'}]\n"
     ]
    }
   ],
   "source": [
    "# Explore Python Fundamentals, Part 1: Manning LiveProject\n",
    "# Project 1: Variables\n",
    "# Project 1.1 : Explore the Problem with Immutable vs. Mutable Objects\n",
    "\n",
    "# Create a list element\n",
    "\n",
    "listvar = [1, 2.0, \"three\", (5.0, \"six\"), {'a', 100, 'b'}] #list with a tuple and dict in the element\n",
    "listvar_a = listvar\n",
    "\n",
    "print(f\"listvar: {listvar}\")\n",
    "print(f\"listvar_a: {listvar_a}\")"
   ]
  },
  {
   "cell_type": "code",
   "execution_count": 2,
   "id": "68438a3f",
   "metadata": {},
   "outputs": [
    {
     "name": "stdout",
     "output_type": "stream",
     "text": [
      "listvar: [1.1, 2, 'three', (5.0, 'six'), {'beta', 'alpha', 100}]\n",
      "listvar_a: [1.1, 2, 'three', (5.0, 'six'), {'beta', 'alpha', 100}]\n"
     ]
    }
   ],
   "source": [
    "#Change values in the variable listvar\n",
    "\n",
    "listvar = [1.1, 2, \"three\", (5.0, \"six\"), {'alpha', 100, 'beta'}] #list with a tuple and dict in the element\n",
    "listvar_a = listvar\n",
    "\n",
    "print(f\"listvar: {listvar}\")\n",
    "print(f\"listvar_a: {listvar_a}\")"
   ]
  },
  {
   "cell_type": "code",
   "execution_count": 3,
   "id": "43ef4d37",
   "metadata": {},
   "outputs": [
    {
     "name": "stdout",
     "output_type": "stream",
     "text": [
      "listvar: [111, 222.22, 'number three', (5.0, 'six'), {'beta', 'alpha', 100}]\n",
      "listvar_a: [111, 222.22, 'number three', (5.0, 'six'), {'beta', 'alpha', 100}]\n"
     ]
    }
   ],
   "source": [
    "# Re-assign values for the individual int, flt, and string elements\n",
    "# In the given variable: positions [0], [1], & [2]\n",
    "\n",
    "listvar[0] = 111\n",
    "listvar[1] = 222.22\n",
    "listvar[2] = \"number three\"\n",
    "listvar_a = listvar\n",
    "\n",
    "print(f\"listvar: {listvar}\")\n",
    "print(f\"listvar_a: {listvar_a}\")"
   ]
  },
  {
   "cell_type": "code",
   "execution_count": 4,
   "id": "1c29fd22",
   "metadata": {},
   "outputs": [
    {
     "name": "stdout",
     "output_type": "stream",
     "text": [
      "listvar: [111, 222.22, 'number three', ('five', 6.01, 7), {'omega', 777, 7.777, 'gamma'}]\n",
      "listvar_a: [111, 222.22, 'number three', ('five', 6.01, 7), {'omega', 777, 7.777, 'gamma'}]\n"
     ]
    }
   ],
   "source": [
    "# Re-assign values for the individual tuple and dict elements in listvar\n",
    "# In the given variable: positions [3] & [4]\n",
    "\n",
    "listvar[3] = (\"five\", 6.01, 7)\n",
    "listvar[4] = {\"gamma\", \"omega\", 777, 7.777}\n",
    "listvar_a = listvar\n",
    "\n",
    "print(f\"listvar: {listvar}\")\n",
    "print(f\"listvar_a: {listvar_a}\")"
   ]
  },
  {
   "cell_type": "code",
   "execution_count": 5,
   "id": "c1edf57e",
   "metadata": {},
   "outputs": [],
   "source": [
    "# Conclusion: Lists are \"mutable\"; assigning new values and re-assigning elements within it are possible"
   ]
  },
  {
   "cell_type": "code",
   "execution_count": 6,
   "id": "5a081715",
   "metadata": {},
   "outputs": [
    {
     "name": "stdout",
     "output_type": "stream",
     "text": [
      "tuplevar: (1, 2.0, 'three', [5.0, 'six'], {'b', 100, 'a'})\n",
      "tuplevar_a: (1, 2.0, 'three', [5.0, 'six'], {'b', 100, 'a'})\n"
     ]
    }
   ],
   "source": [
    "# Create a tuple element\n",
    "\n",
    "tuplevar = (1, 2.0, \"three\", [5.0, \"six\"], {'a', 100, 'b'})\n",
    "#tuple variable (enclosed withing\"()\") with a list and dict in the element\n",
    "\n",
    "tuplevar_a = tuplevar\n",
    "\n",
    "print(f\"tuplevar: {tuplevar}\")\n",
    "print(f\"tuplevar_a: {tuplevar_a}\")"
   ]
  },
  {
   "cell_type": "code",
   "execution_count": 7,
   "id": "bb3d2275",
   "metadata": {},
   "outputs": [
    {
     "name": "stdout",
     "output_type": "stream",
     "text": [
      "tuplevar: ({1, 2, 3}, 'four', [5.0, 6.0, 7.0], ('alpha', 'omega', 44.44))\n",
      "tuplevar_a: ({1, 2, 3}, 'four', [5.0, 6.0, 7.0], ('alpha', 'omega', 44.44))\n"
     ]
    }
   ],
   "source": [
    "#Change values of tuplevar\n",
    "tuplevar = ({1, 2, 3}, \"four\", [5.0, 6.0, 7.0], ('alpha', 'omega', 44.44))\n",
    "tuplevar_a = tuplevar\n",
    "\n",
    "print(f\"tuplevar: {tuplevar}\")\n",
    "print(f\"tuplevar_a: {tuplevar_a}\")"
   ]
  },
  {
   "cell_type": "code",
   "execution_count": 8,
   "id": "0f059fb5",
   "metadata": {},
   "outputs": [
    {
     "ename": "TypeError",
     "evalue": "'tuple' object does not support item assignment",
     "output_type": "error",
     "traceback": [
      "\u001b[0;31m---------------------------------------------------------------------------\u001b[0m",
      "\u001b[0;31mTypeError\u001b[0m                                 Traceback (most recent call last)",
      "\u001b[0;32m/var/folders/w5/lv0fm9k15fb7kf7ph4_j959c0000gn/T/ipykernel_70729/798581096.py\u001b[0m in \u001b[0;36m<module>\u001b[0;34m\u001b[0m\n\u001b[1;32m      1\u001b[0m \u001b[0;31m# Re-assign values for tuplevar\u001b[0m\u001b[0;34m\u001b[0m\u001b[0;34m\u001b[0m\u001b[0m\n\u001b[1;32m      2\u001b[0m \u001b[0;34m\u001b[0m\u001b[0m\n\u001b[0;32m----> 3\u001b[0;31m \u001b[0mtuplevar\u001b[0m\u001b[0;34m[\u001b[0m\u001b[0;36m0\u001b[0m\u001b[0;34m]\u001b[0m \u001b[0;34m=\u001b[0m \u001b[0;36m111\u001b[0m\u001b[0;34m\u001b[0m\u001b[0;34m\u001b[0m\u001b[0m\n\u001b[0m\u001b[1;32m      4\u001b[0m \u001b[0mtuplevar\u001b[0m\u001b[0;34m[\u001b[0m\u001b[0;36m1\u001b[0m\u001b[0;34m]\u001b[0m \u001b[0;34m=\u001b[0m \u001b[0;36m222.22\u001b[0m\u001b[0;34m\u001b[0m\u001b[0;34m\u001b[0m\u001b[0m\n\u001b[1;32m      5\u001b[0m \u001b[0mtuplevar\u001b[0m\u001b[0;34m[\u001b[0m\u001b[0;36m3\u001b[0m\u001b[0;34m]\u001b[0m \u001b[0;34m=\u001b[0m \u001b[0;34m[\u001b[0m\u001b[0;34m'number 5'\u001b[0m\u001b[0;34m,\u001b[0m \u001b[0;36m6\u001b[0m\u001b[0;34m,\u001b[0m \u001b[0;36m6.123\u001b[0m\u001b[0;34m]\u001b[0m\u001b[0;34m\u001b[0m\u001b[0;34m\u001b[0m\u001b[0m\n",
      "\u001b[0;31mTypeError\u001b[0m: 'tuple' object does not support item assignment"
     ]
    }
   ],
   "source": [
    "# Re-assign values for tuplevar\n",
    "\n",
    "tuplevar[0] = 111\n",
    "tuplevar[1] = 222.22\n",
    "tuplevar[3] = ['number 5', 6, 6.123]\n",
    "tuplevar_a = tuplevar\n",
    "\n",
    "print(f\"tuplevar: {tuplevar}\")\n",
    "print(f\"tuplevar_a: {tuplevar_a}\")"
   ]
  },
  {
   "cell_type": "code",
   "execution_count": 9,
   "id": "ff795b26",
   "metadata": {},
   "outputs": [],
   "source": [
    "# Conclusion: Tuples are \"immutable\"; assigning new values and re-assigning elements within it are nopossible"
   ]
  },
  {
   "cell_type": "code",
   "execution_count": 10,
   "id": "db79d3eb",
   "metadata": {},
   "outputs": [
    {
     "name": "stdout",
     "output_type": "stream",
     "text": [
      "dictvar: {900, 5, 777.777, 'abc', 'def'}\n",
      "dictvar_a: {900, 5, 777.777, 'abc', 'def'}\n"
     ]
    }
   ],
   "source": [
    "# Create a dict element\n",
    "\n",
    "dictvar = {900, 5, 'abc', 777.777, 'def'}\n",
    "#dict variable (enclosed withing\"{}\")\n",
    "\n",
    "dictvar_a = dictvar\n",
    "\n",
    "print(f\"dictvar: {dictvar}\")\n",
    "print(f\"dictvar_a: {dictvar_a}\")"
   ]
  },
  {
   "cell_type": "code",
   "execution_count": 11,
   "id": "37e052a5",
   "metadata": {},
   "outputs": [
    {
     "name": "stdout",
     "output_type": "stream",
     "text": [
      "dictvar: {900, 5, 777.777, 'abc', 'def'}\n",
      "dictvar_a: {900, 5, 777.777, 'abc', 'def'}\n"
     ]
    }
   ],
   "source": [
    "#Change value of dictvar_a\n",
    "\n",
    "dictvar_a = {1, 2, 3, 4, 5}\n",
    "dictvar_a = dictvar\n",
    "\n",
    "print(f\"dictvar: {dictvar}\")\n",
    "print(f\"dictvar_a: {dictvar_a}\")"
   ]
  },
  {
   "cell_type": "code",
   "execution_count": 12,
   "id": "0796ee7d",
   "metadata": {},
   "outputs": [
    {
     "ename": "TypeError",
     "evalue": "'set' object does not support item assignment",
     "output_type": "error",
     "traceback": [
      "\u001b[0;31m---------------------------------------------------------------------------\u001b[0m",
      "\u001b[0;31mTypeError\u001b[0m                                 Traceback (most recent call last)",
      "\u001b[0;32m/var/folders/w5/lv0fm9k15fb7kf7ph4_j959c0000gn/T/ipykernel_70729/4075988954.py\u001b[0m in \u001b[0;36m<module>\u001b[0;34m\u001b[0m\n\u001b[1;32m      1\u001b[0m \u001b[0;31m# Re-assign values for dictvar\u001b[0m\u001b[0;34m\u001b[0m\u001b[0;34m\u001b[0m\u001b[0m\n\u001b[1;32m      2\u001b[0m \u001b[0;34m\u001b[0m\u001b[0m\n\u001b[0;32m----> 3\u001b[0;31m \u001b[0mdictvar\u001b[0m\u001b[0;34m[\u001b[0m\u001b[0;36m0\u001b[0m\u001b[0;34m]\u001b[0m \u001b[0;34m=\u001b[0m \u001b[0;34m\"nine hundred\"\u001b[0m\u001b[0;34m\u001b[0m\u001b[0;34m\u001b[0m\u001b[0m\n\u001b[0m\u001b[1;32m      4\u001b[0m \u001b[0mdictvar\u001b[0m\u001b[0;34m[\u001b[0m\u001b[0;36m3\u001b[0m\u001b[0;34m]\u001b[0m \u001b[0;34m=\u001b[0m \u001b[0;36m700\u001b[0m\u001b[0;34m\u001b[0m\u001b[0;34m\u001b[0m\u001b[0m\n\u001b[1;32m      5\u001b[0m \u001b[0;34m\u001b[0m\u001b[0m\n",
      "\u001b[0;31mTypeError\u001b[0m: 'set' object does not support item assignment"
     ]
    }
   ],
   "source": [
    "# Re-assign values for dictvar\n",
    "\n",
    "dictvar[0] = \"nine hundred\"\n",
    "dictvar[3] = 700\n",
    "\n",
    "dictvar_a = dictvar\n",
    "\n",
    "print(f\"dictvar: {dictvar}\")\n",
    "print(f\"dictvar_a: {dictvar_a}\")"
   ]
  },
  {
   "cell_type": "code",
   "execution_count": null,
   "id": "13ac67c1",
   "metadata": {},
   "outputs": [],
   "source": [
    "#Overall Conclusions:\n",
    "\n",
    "# - Variables are 'containers' for an element or set of elements (lists, tuples, dicts)\n",
    "# - Change the entire value of a variable by equating it to another element or sets of element;\n",
    "#   thus, the most recent value attached to the variable will be the assigned content to its memory\n",
    "# - Lists are \"mutable\"; re-assigning values into the element is possible\n",
    "# - Tuples and dictionaries are \"immutable\"; re-assigning values into the elements are not possible"
   ]
  }
 ],
 "metadata": {
  "kernelspec": {
   "display_name": "Python 3 (ipykernel)",
   "language": "python",
   "name": "python3"
  },
  "language_info": {
   "codemirror_mode": {
    "name": "ipython",
    "version": 3
   },
   "file_extension": ".py",
   "mimetype": "text/x-python",
   "name": "python",
   "nbconvert_exporter": "python",
   "pygments_lexer": "ipython3",
   "version": "3.9.13"
  }
 },
 "nbformat": 4,
 "nbformat_minor": 5
}
