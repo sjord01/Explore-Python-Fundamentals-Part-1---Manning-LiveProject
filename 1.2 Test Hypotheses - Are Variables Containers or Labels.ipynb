{
 "cells": [
  {
   "cell_type": "code",
   "execution_count": 1,
   "id": "e2ad294e",
   "metadata": {},
   "outputs": [],
   "source": [
    "# Explore Python Fundamentals, Part 1: Manning LiveProject\n",
    "# Project 1: Variables\n",
    "# Project 1.2 : Test Hypotheses - Are Variables 'Containers' or 'Labels\n",
    "\n",
    "#Create a fubction to compare ids of two variables\n",
    "def var_id (var1, var2):\n",
    "    if id(var1) == id(var2):\n",
    "        print('The contents of the variables are the same.')\n",
    "        print(id(var1))\n",
    "        print(id(var2))\n",
    "    else:\n",
    "        print('The contents of the variables are not the same.')\n",
    "        print(id(var1))\n",
    "        print(id(var2))"
   ]
  },
  {
   "cell_type": "code",
   "execution_count": 2,
   "id": "eb0f7fc3",
   "metadata": {},
   "outputs": [
    {
     "name": "stdout",
     "output_type": "stream",
     "text": [
      "The contents of the variables are the same.\n",
      "140367316243920\n",
      "140367316243920\n",
      "The contents of the variables are not the same.\n",
      "140367316243920\n",
      "140367316247184\n"
     ]
    }
   ],
   "source": [
    "# Create an int variable\n",
    "\n",
    "intvar = 100\n",
    "intvar_a = intvar\n",
    "var_id(intvar, intvar_a)\n",
    "\n",
    "#Change the variable intvar_a\n",
    "intvar_a = 200\n",
    "var_id(intvar, intvar_a)"
   ]
  },
  {
   "cell_type": "code",
   "execution_count": 3,
   "id": "09b74aa0",
   "metadata": {},
   "outputs": [],
   "source": [
    "#Conclusion: Variables containing an integer is 'immutable'"
   ]
  },
  {
   "cell_type": "code",
   "execution_count": 4,
   "id": "6f35524a",
   "metadata": {},
   "outputs": [
    {
     "name": "stdout",
     "output_type": "stream",
     "text": [
      "The contents of the variables are the same.\n",
      "140367082311472\n",
      "140367082311472\n",
      "The contents of the variables are not the same.\n",
      "140367082311472\n",
      "140367082311504\n"
     ]
    }
   ],
   "source": [
    "# Create a float variable\n",
    "\n",
    "fltvar = 100.111\n",
    "fltvar_a = fltvar\n",
    "\n",
    "var_id(fltvar, fltvar_a)\n",
    "\n",
    "fltvar_a = 200.222\n",
    "\n",
    "var_id(fltvar, fltvar_a)\n"
   ]
  },
  {
   "cell_type": "code",
   "execution_count": 5,
   "id": "dacfe213",
   "metadata": {},
   "outputs": [
    {
     "name": "stdout",
     "output_type": "stream",
     "text": [
      "The contents of the variables are the same.\n",
      "140367051933808\n",
      "140367051933808\n",
      "The contents of the variables are not the same.\n",
      "140367051933808\n",
      "140367053826608\n"
     ]
    }
   ],
   "source": [
    "# Create a string variable\n",
    "\n",
    "strvar = \"alpha\"\n",
    "strvar_a = strvar\n",
    "\n",
    "var_id(strvar, strvar_a)\n",
    "\n",
    "strvar_a = \"omega\"\n",
    "\n",
    "var_id(strvar, strvar_a)"
   ]
  },
  {
   "cell_type": "code",
   "execution_count": 6,
   "id": "7abe8c5b",
   "metadata": {},
   "outputs": [
    {
     "name": "stdout",
     "output_type": "stream",
     "text": [
      "The contents of the variables are the same.\n",
      "140367319812992\n",
      "140367319812992\n",
      "The contents of the variables are the same.\n",
      "140367319812992\n",
      "140367319812992\n"
     ]
    }
   ],
   "source": [
    "# Create a list variable\n",
    "\n",
    "listvar = [1, 2.0, \"three\", (5.0, \"six\"), {'a', 100, 'b'}]\n",
    "listvar_a = listvar\n",
    "\n",
    "var_id(listvar, listvar_a)\n",
    "\n",
    "#Change values in the variable listvar_a\n",
    "listvar_a[3] = \"number three\"\n",
    "\n",
    "var_id(listvar, listvar_a)"
   ]
  },
  {
   "cell_type": "code",
   "execution_count": 7,
   "id": "62aef046",
   "metadata": {},
   "outputs": [
    {
     "name": "stdout",
     "output_type": "stream",
     "text": [
      "The contents of the variables are not the same.\n",
      "140367082453440\n",
      "140367319812160\n"
     ]
    }
   ],
   "source": [
    "# Modify the list variable listvar_a\n",
    "\n",
    "listvar = [1, 2.0, \"three\", (5.0, \"six\"), {'a', 100, 'b'}] \n",
    "listvar_a = listvar\n",
    "listvar_a = [100, 200, ('list1', 'list2'), {'ae', 'iou', 1000.001}]\n",
    "\n",
    "var_id(listvar, listvar_a)"
   ]
  },
  {
   "cell_type": "code",
   "execution_count": 8,
   "id": "a1b78579",
   "metadata": {},
   "outputs": [
    {
     "name": "stdout",
     "output_type": "stream",
     "text": [
      "The contents of the variables are the same.\n",
      "140367082537024\n",
      "140367082537024\n"
     ]
    }
   ],
   "source": [
    "# Create a tuple variable\n",
    "\n",
    "tuplevar = (1, 2.0, \"three\", [5.0, \"six\"], {'a', 100, 'b'})\n",
    "tuplevar_a = tuplevar\n",
    "var_id(tuplevar, tuplevar_a)"
   ]
  },
  {
   "cell_type": "code",
   "execution_count": 9,
   "id": "c8b7e7bc",
   "metadata": {},
   "outputs": [
    {
     "ename": "TypeError",
     "evalue": "'tuple' object does not support item assignment",
     "output_type": "error",
     "traceback": [
      "\u001b[0;31m---------------------------------------------------------------------------\u001b[0m",
      "\u001b[0;31mTypeError\u001b[0m                                 Traceback (most recent call last)",
      "\u001b[0;32m/var/folders/w5/lv0fm9k15fb7kf7ph4_j959c0000gn/T/ipykernel_6610/2448861958.py\u001b[0m in \u001b[0;36m<module>\u001b[0;34m\u001b[0m\n\u001b[1;32m      1\u001b[0m \u001b[0;31m#Change values of tuplevar_a\u001b[0m\u001b[0;34m\u001b[0m\u001b[0;34m\u001b[0m\u001b[0m\n\u001b[0;32m----> 2\u001b[0;31m \u001b[0mtuplevar_a\u001b[0m\u001b[0;34m[\u001b[0m\u001b[0;36m1\u001b[0m\u001b[0;34m]\u001b[0m \u001b[0;34m=\u001b[0m \u001b[0;36m777.777\u001b[0m\u001b[0;34m\u001b[0m\u001b[0;34m\u001b[0m\u001b[0m\n\u001b[0m\u001b[1;32m      3\u001b[0m \u001b[0;34m\u001b[0m\u001b[0m\n\u001b[1;32m      4\u001b[0m \u001b[0;34m\u001b[0m\u001b[0m\n\u001b[1;32m      5\u001b[0m \u001b[0mvar_id\u001b[0m\u001b[0;34m(\u001b[0m\u001b[0mtuplevar\u001b[0m\u001b[0;34m,\u001b[0m \u001b[0mtuplevar_a\u001b[0m\u001b[0;34m)\u001b[0m\u001b[0;34m\u001b[0m\u001b[0;34m\u001b[0m\u001b[0m\n",
      "\u001b[0;31mTypeError\u001b[0m: 'tuple' object does not support item assignment"
     ]
    }
   ],
   "source": [
    "#Change values of tuplevar_a\n",
    "tuplevar_a[1] = 777.777\n",
    "\n",
    "\n",
    "var_id(tuplevar, tuplevar_a)"
   ]
  },
  {
   "cell_type": "code",
   "execution_count": 10,
   "id": "75f2fefd",
   "metadata": {},
   "outputs": [
    {
     "name": "stdout",
     "output_type": "stream",
     "text": [
      "The contents of the variables are not the same.\n",
      "140367319056848\n",
      "140367082537024\n"
     ]
    }
   ],
   "source": [
    "# Modify the tuple variable tuplevar_a \n",
    "\n",
    "tuplevar = (1, 2.0, \"three\", [5.0, \"six\"], {'a', 100, 'b'})\n",
    "tuplevar_a = tuplevar\n",
    "tuplevar_a = (100, 2, \"number three\", (11, 12, 13.0), {'one':1, 'two':2, 'three':3})\n",
    "\n",
    "var_id(tuplevar, tuplevar_a)"
   ]
  },
  {
   "cell_type": "code",
   "execution_count": 11,
   "id": "26cefa2c",
   "metadata": {},
   "outputs": [
    {
     "name": "stdout",
     "output_type": "stream",
     "text": [
      "The contents of the variables are the same.\n",
      "140367319828096\n",
      "140367319828096\n"
     ]
    }
   ],
   "source": [
    "# Create a dict element\n",
    "\n",
    "dictvar = {900:\"nine hundred\", 5: \"five\", 'abc': 123, 777.777:\"seven hundred seventy-seven\", 'def':456}\n",
    "dictvar_a = dictvar\n",
    "dictvar_a[5] = 500\n",
    "dictvar_a['abc'] = 321\n",
    "\n",
    "var_id(dictvar, dictvar_a)"
   ]
  },
  {
   "cell_type": "code",
   "execution_count": 12,
   "id": "475e6924",
   "metadata": {},
   "outputs": [
    {
     "name": "stdout",
     "output_type": "stream",
     "text": [
      "The contents of the variables are not the same.\n",
      "140367319829184\n",
      "140366779637632\n"
     ]
    }
   ],
   "source": [
    "#Change value of dictvar_a\n",
    "\n",
    "dictvar = {900:\"nine hundred\", 5: \"five\", 'abc': 123, 777.777:\"seven hundred seventy-seven\", 'def':456}\n",
    "dictvar_a = dictvar\n",
    "dictvar_a = {700:\"seven hundred\", 6: \"six\", 'cba': 321, 555.555:\"five hundred fifty-five\", 'fed':654}\n",
    "\n",
    "var_id(dictvar, dictvar_a)"
   ]
  },
  {
   "cell_type": "code",
   "execution_count": 13,
   "id": "b2f72f38",
   "metadata": {},
   "outputs": [
    {
     "data": {
      "text/plain": [
       "\"\\nOverall Conclusions:\\n- Variables pointing to the same memory object will have the same id.\\n- The assignment operation on variables will not cause a change in the id.\\n- Changing an element within mutable lists or dictionary will not cause a change in the id.\\n- Updating the values of a variable will cause a change in its id.\\n- With the previous conclusions, Python variables actually act as 'labels'.\\n\""
      ]
     },
     "execution_count": 13,
     "metadata": {},
     "output_type": "execute_result"
    }
   ],
   "source": [
    "'''\n",
    "Overall Conclusions:\n",
    "- Variables pointing to the same memory object will have the same id.\n",
    "- The assignment operation on variables will not cause a change in the id.\n",
    "- Changing an element within mutable lists or dictionary will not cause a change in the id.\n",
    "- Updating the values of a variable will cause a change in its id.\n",
    "- With the previous conclusions, Python variables actually act as 'labels'.\n",
    "'''"
   ]
  }
 ],
 "metadata": {
  "kernelspec": {
   "display_name": "Python 3 (ipykernel)",
   "language": "python",
   "name": "python3"
  },
  "language_info": {
   "codemirror_mode": {
    "name": "ipython",
    "version": 3
   },
   "file_extension": ".py",
   "mimetype": "text/x-python",
   "name": "python",
   "nbconvert_exporter": "python",
   "pygments_lexer": "ipython3",
   "version": "3.9.13"
  }
 },
 "nbformat": 4,
 "nbformat_minor": 5
}
