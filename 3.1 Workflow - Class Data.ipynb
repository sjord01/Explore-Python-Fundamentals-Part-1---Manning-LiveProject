{
 "cells": [
  {
   "cell_type": "code",
   "execution_count": 1,
   "id": "2d56cd95",
   "metadata": {},
   "outputs": [],
   "source": [
    "# Explore Python Fundamentals, Part 1: Manning LiveProject\n",
    "# Project 3: Class Methods and Variables\n",
    "# Project 3.1: Workflow: Class Data\n",
    "\n",
    "class Connection:\n",
    "    port = 55000\n",
    "    conn_limit = 10\n",
    "    conn_count = 0\n",
    "    \n",
    "    def __init__(self, host, port=55000, con_limit=10, conn_count=0):\n",
    "        # set the host for the instance\n",
    "        self.host = host\n",
    "        # set the port based on the class variable port\n",
    "        self.port = Connection.port\n",
    "        Connection.port += 1\n",
    "        # add 1 to the class's connection_count\n",
    "        Connection.conn_count += 1\n",
    "\n",
    "    def close(self):\n",
    "        # reduce the class's connection_count by 1\n",
    "        Connection.conn_count -= 1\n",
    "        \n",
    "    def __repr__(self):\n",
    "        return f\"{self.host}, {self.port}\""
   ]
  },
  {
   "cell_type": "code",
   "execution_count": 2,
   "id": "e5d16eb0",
   "metadata": {},
   "outputs": [
    {
     "data": {
      "text/plain": [
       "55000"
      ]
     },
     "execution_count": 2,
     "metadata": {},
     "output_type": "execute_result"
    }
   ],
   "source": [
    "conn_a = Connection (\"indeed.com\")\n",
    "conn_a.port"
   ]
  },
  {
   "cell_type": "code",
   "execution_count": 3,
   "id": "d36efc13",
   "metadata": {},
   "outputs": [
    {
     "data": {
      "text/plain": [
       "1"
      ]
     },
     "execution_count": 3,
     "metadata": {},
     "output_type": "execute_result"
    }
   ],
   "source": [
    "conn_a.conn_count"
   ]
  },
  {
   "cell_type": "code",
   "execution_count": 4,
   "id": "a0ad55cf",
   "metadata": {},
   "outputs": [],
   "source": [
    "conn_a.close()"
   ]
  },
  {
   "cell_type": "code",
   "execution_count": 5,
   "id": "f82e554a",
   "metadata": {},
   "outputs": [
    {
     "data": {
      "text/plain": [
       "0"
      ]
     },
     "execution_count": 5,
     "metadata": {},
     "output_type": "execute_result"
    }
   ],
   "source": [
    "conn_a.conn_count"
   ]
  },
  {
   "cell_type": "code",
   "execution_count": 6,
   "id": "f476d29a",
   "metadata": {},
   "outputs": [],
   "source": [
    "#The class Connection works so far"
   ]
  },
  {
   "cell_type": "code",
   "execution_count": 7,
   "id": "c1fa9e77",
   "metadata": {},
   "outputs": [
    {
     "name": "stdout",
     "output_type": "stream",
     "text": [
      "manning.com, 55001\n",
      "3\n",
      "google.com, 55002\n",
      "3\n",
      "amazon.com, 55003\n",
      "3\n"
     ]
    }
   ],
   "source": [
    "#Check if __repr__ method results to different ports and increases connection count when creating multiple instances\n",
    "conn1 = Connection(\"manning.com\")\n",
    "conn2 = Connection(\"google.com\")\n",
    "conn3 = Connection(\"amazon.com\")\n",
    "print(conn1)\n",
    "print(conn1.conn_count)\n",
    "print(conn2)\n",
    "print(conn2.conn_count)\n",
    "print(conn3)\n",
    "print(conn3.conn_count)"
   ]
  },
  {
   "cell_type": "code",
   "execution_count": 8,
   "id": "0b6f575c",
   "metadata": {},
   "outputs": [
    {
     "name": "stdout",
     "output_type": "stream",
     "text": [
      "55004\n",
      "10\n",
      "3\n"
     ]
    }
   ],
   "source": [
    "print(Connection.port)\n",
    "print(Connection.conn_limit)\n",
    "print(Connection.conn_count)"
   ]
  },
  {
   "cell_type": "code",
   "execution_count": 9,
   "id": "108f8b12",
   "metadata": {},
   "outputs": [],
   "source": [
    "#In this example: 3 ports are still open"
   ]
  },
  {
   "cell_type": "code",
   "execution_count": 10,
   "id": "bbabd6d5",
   "metadata": {},
   "outputs": [],
   "source": [
    "#Modify the class\n",
    "\n",
    "class Connection:\n",
    "    port = 55000\n",
    "    conn_limit = 10\n",
    "    connections = []\n",
    "    \n",
    "    def __init__(self, host):\n",
    "        if len(Connection.connections) < Connection.conn_limit:\n",
    "            self.host = host\n",
    "            self.port = Connection.port\n",
    "            Connection.port += 1\n",
    "            self.connections.append(self)\n",
    "            print(f\"Connection established with {self.host}\")\n",
    "        else:\n",
    "            print(f\"Connection limit of {Connection.conn_limit} reached.\")\n",
    "    \n",
    "    def close(self):\n",
    "        self.connections.remove(self)\n",
    "        print(f\"Connection closed with {self.host}\")\n",
    "        \n",
    "    def __repr__(self):\n",
    "        return f\"{self.host}, {self.port}\""
   ]
  },
  {
   "cell_type": "code",
   "execution_count": 11,
   "id": "c19e4775",
   "metadata": {},
   "outputs": [
    {
     "name": "stdout",
     "output_type": "stream",
     "text": [
      "Connection established with linkedin.com\n",
      "Connection established with glassdoor.com\n",
      "Connection established with indeed.com\n",
      "[linkedin.com, 55000, glassdoor.com, 55001, indeed.com, 55002]\n",
      "{'host': 'linkedin.com', 'port': 55000}\n",
      "{'host': 'glassdoor.com', 'port': 55001}\n",
      "{'host': 'indeed.com', 'port': 55002}\n"
     ]
    }
   ],
   "source": [
    "c1 = Connection(\"linkedin.com\")\n",
    "c2 = Connection(\"glassdoor.com\")\n",
    "c3 = Connection(\"indeed.com\")\n",
    "\n",
    "print(Connection.connections)\n",
    "print(c1.__dict__)\n",
    "print(c2.__dict__)\n",
    "print(c3.__dict__)"
   ]
  },
  {
   "cell_type": "code",
   "execution_count": 12,
   "id": "36d4c2c1",
   "metadata": {},
   "outputs": [
    {
     "data": {
      "text/plain": [
       "\"\\nConclusions:\\n\\n- In comparison to the previous version that used an integer 'connection_count' attribute,\\nusing a mutable object like a list as the class attribute allows us to\\nkeep track of all the instances of the Connection class that have been created.\\n\\n- When we add an instance to the list in the __init__ method and remove it in the\\nclose method, the changes to the connections list affect all instances of the class.\\n\\n- This makes it easier to keep track of all the active connections, and also allows us\\nto access information about all the connections in the class.\\n\\n- In contrast, using an integer 'connection_count' attribute only allows us to keep track\\nof the number of connections, but not the actual connections themselves.\\n\\n- We cannot access information about individual connections unless we create a separate\\ndata structure to store that information.\\n\\n\""
      ]
     },
     "execution_count": 12,
     "metadata": {},
     "output_type": "execute_result"
    }
   ],
   "source": [
    "'''\n",
    "Conclusions:\n",
    "\n",
    "- In comparison to the previous version that used an integer 'connection_count' attribute,\n",
    "using a mutable object like a list as the class attribute allows us to\n",
    "keep track of all the instances of the Connection class that have been created.\n",
    "\n",
    "- When we add an instance to the list in the __init__ method and remove it in the\n",
    "close method, the changes to the connections list affect all instances of the class.\n",
    "\n",
    "- This makes it easier to keep track of all the active connections, and also allows us\n",
    "to access information about all the connections in the class.\n",
    "\n",
    "- In contrast, using an integer 'connection_count' attribute only allows us to keep track\n",
    "of the number of connections, but not the actual connections themselves.\n",
    "\n",
    "- We cannot access information about individual connections unless we create a separate\n",
    "data structure to store that information.\n",
    "\n",
    "'''\n",
    "\n",
    "\n",
    "\n",
    "\n",
    "\n",
    "\n",
    "\n"
   ]
  }
 ],
 "metadata": {
  "kernelspec": {
   "display_name": "Python 3 (ipykernel)",
   "language": "python",
   "name": "python3"
  },
  "language_info": {
   "codemirror_mode": {
    "name": "ipython",
    "version": 3
   },
   "file_extension": ".py",
   "mimetype": "text/x-python",
   "name": "python",
   "nbconvert_exporter": "python",
   "pygments_lexer": "ipython3",
   "version": "3.9.13"
  }
 },
 "nbformat": 4,
 "nbformat_minor": 5
}
